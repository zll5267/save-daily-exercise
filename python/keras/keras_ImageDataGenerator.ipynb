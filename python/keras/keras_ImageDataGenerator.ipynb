{
 "cells": [
  {
   "cell_type": "code",
   "execution_count": null,
   "metadata": {},
   "outputs": [],
   "source": [
    "import keras\n",
    "from keras.preprocessing.image import ImageDataGenerator\n",
    "from keras.datasets import cifar10, cifar100"
   ]
  },
  {
   "cell_type": "code",
   "execution_count": null,
   "metadata": {},
   "outputs": [],
   "source": [
    "(x_train, y_train), (x_test, y_test) = cifar100.load_data()"
   ]
  },
  {
   "cell_type": "code",
   "execution_count": null,
   "metadata": {},
   "outputs": [],
   "source": [
    "print(x_train.shape)"
   ]
  },
  {
   "cell_type": "code",
   "execution_count": null,
   "metadata": {},
   "outputs": [],
   "source": [
    "img_data = x_train[1]\n",
    "print(img_data.shape)\n",
    "import matplotlib.pyplot as plt\n",
    "plt.imshow(img_data, interpolation=\"nearest\")"
   ]
  },
  {
   "cell_type": "code",
   "execution_count": null,
   "metadata": {},
   "outputs": [],
   "source": [
    "from keras.preprocessing import image\n",
    "elephant_path = '/home/leliang/.keras/elephant.jpeg'\n",
    "dog1_path = '/home/leliang/.keras/dog1.jpg'\n",
    "dog2_path = '/home/leliang/.keras/dog2.jpg'\n",
    "cat1_path = '/home/leliang/.keras/cat1.jpg'\n",
    "cat2_path = '/home/leliang/.keras/cat2.jpg'\n",
    "img_paths = [elephant_path, dog1_path, dog2_path, cat1_path, cat2_path]\n",
    "img_datas = []\n",
    "for img_path in img_paths:\n",
    "    img_data = image.load_img(img_path, target_size=(512, 750))\n",
    "    x = image.img_to_array(img_data)\n",
    "    img_datas.append(x)\n",
    "    print(x.shape)\n",
    "    plt.imshow(x/255.)\n",
    "    \n",
    "plt.imshow(img_datas[0]/255.)"
   ]
  },
  {
   "cell_type": "code",
   "execution_count": null,
   "metadata": {},
   "outputs": [],
   "source": [
    "print(len(img_datas))\n",
    "print(img_datas[0].shape)"
   ]
  },
  {
   "cell_type": "code",
   "execution_count": null,
   "metadata": {},
   "outputs": [],
   "source": [
    "datagen = image.ImageDataGenerator(featurewise_center=True,featurewise_std_normalization=True)\n",
    "#\"Set input mean to 0 over the dataset, feature-wise.\" 大意为使数据集去中心化（使得其均值为0），\n",
    "#而samplewise_std_normalization的官方解释是“ Divide inputs by std of the dataset, feature-wise.”，\n",
    "#大意为将输入的每个样本除以其自身的标准差。这两个参数都是从<数据集整体>上对每张图片进行标准化处理\n",
    "#\n",
    "datagen.fit(img_datas)\n",
    "img_arrays = np.array(img_datas)\n",
    "print(img_arrays.shape)\n",
    "img_iter = datagen.flow(img_arrays, batch_size=1)\n",
    "\n",
    "i = 1\n",
    "\n",
    "for img in img_iter:\n",
    "    print(img[0].shape)\n",
    "    plt.subplot(5, 1, i)\n",
    "    plt.imshow(img[0])\n",
    "    i += 1\n",
    "    if i > 5:\n",
    "        break"
   ]
  },
  {
   "cell_type": "code",
   "execution_count": null,
   "metadata": {},
   "outputs": [],
   "source": [
    "import numpy as np\n",
    "#“ Set each sample mean to 0.”，使输入数据的<每个样本均值>为0；\n",
    "#samplewise_std_normalization的官方解释为：“Divide each input by its std.”，将输入的每个样本除以其自身的标准差。\n",
    "datagen = image.ImageDataGenerator(samplewise_center=True,samplewise_std_normalization=True)\n",
    "#datagen.fit(img_datas)\n",
    "img_arrays = np.array(img_datas)\n",
    "print(img_arrays.shape)\n",
    "img_iter = datagen.flow(img_arrays, batch_size=1)\n",
    "\n",
    "i = 1\n",
    "\n",
    "for img in img_iter:\n",
    "    print(img[0].shape)\n",
    "    plt.subplot(5, 1, i)\n",
    "    plt.imshow(img[0])\n",
    "    i += 1\n",
    "    if i > 5:\n",
    "        break"
   ]
  },
  {
   "cell_type": "code",
   "execution_count": null,
   "metadata": {},
   "outputs": [],
   "source": [
    "datagen = image.ImageDataGenerator(zca_whitening=True)\n",
    "# MemoryError maybe the pic too big\n",
    "img_arrays = np.array(img_datas)\n",
    "print(img_arrays.shape)\n",
    "datagen.fit(img_datas)\n",
    "img_iter = datagen.flow(img_arrays, batch_size=1)\n",
    "\n",
    "i = 1\n",
    "\n",
    "for img in img_iter:\n",
    "    print(img[0].shape)\n",
    "    plt.subplot(5, 1, i)\n",
    "    plt.imshow(img[0])\n",
    "    i += 1\n",
    "    if i > 5:\n",
    "        break"
   ]
  },
  {
   "cell_type": "code",
   "execution_count": null,
   "metadata": {},
   "outputs": [],
   "source": [
    "datagen = image.ImageDataGenerator(rotation_range=90)\n",
    "# 用户指定旋转角度范围，其参数只需指定一个整数即可，\n",
    "# 但并不是固定以这个角度进行旋转，而是在 [0, 指定角度] 范围内进行随机角度旋转\n",
    "img_arrays = np.array(img_datas)\n",
    "print(img_arrays.shape)\n",
    "#datagen.fit(img_datas)\n",
    "img_iter = datagen.flow(img_arrays, batch_size=1)\n",
    "\n",
    "i = 1\n",
    "\n",
    "for img in img_iter:\n",
    "    print(img[0].shape)\n",
    "    plt.subplot(5, 1, i)\n",
    "    plt.imshow(img[0]/255.)\n",
    "    i += 1\n",
    "    if i > 5:\n",
    "        break"
   ]
  },
  {
   "cell_type": "code",
   "execution_count": null,
   "metadata": {},
   "outputs": [],
   "source": [
    "datagen = image.ImageDataGenerator(width_shift_range=0.5,height_shift_range=0.5)\n",
    "#width_shift_range & height_shift_range 分别是水平位置评议和上下位置平移，其参数可以是[0, 1]的浮点数，也可以大于1，\n",
    "#其最大平移距离为图片长或宽的尺寸乘以参数，同样平移距离并不固定为最大平移距离，平移距离在 [0, 最大平移距离] 区间内\n",
    "#平移图片的时候一般会出现超出原图范围的区域，这部分区域会根据fill_mode的参数来补全\n",
    "img_arrays = np.array(img_datas)\n",
    "print(img_arrays.shape)\n",
    "#datagen.fit(img_datas)\n",
    "img_iter = datagen.flow(img_arrays, batch_size=1)\n",
    "\n",
    "i = 1\n",
    "\n",
    "for img in img_iter:\n",
    "    print(img[0].shape)\n",
    "    plt.subplot(5, 1, i)\n",
    "    plt.imshow(img[0]/255.)\n",
    "    i += 1\n",
    "    if i > 5:\n",
    "        break"
   ]
  },
  {
   "cell_type": "code",
   "execution_count": null,
   "metadata": {},
   "outputs": [],
   "source": [
    "datagen = image.ImageDataGenerator(shear_range=20)\n",
    "#shear_range就是错切变换，效果就是让所有点的x坐标(或者y坐标)保持不变，而对应的y坐标(或者x坐标)则按比例发生平移，且\n",
    "#平移的大小和该点到x轴(或y轴)的垂直距离成正比\n",
    "img_arrays = np.array(img_datas)\n",
    "print(img_arrays.shape)\n",
    "#datagen.fit(img_datas)\n",
    "img_iter = datagen.flow(img_arrays, batch_size=1)\n",
    "\n",
    "i = 1\n",
    "\n",
    "for img in img_iter:\n",
    "    print(img[0].shape)\n",
    "    plt.subplot(5, 1, i)\n",
    "    plt.imshow(img[0]/255.)\n",
    "    i += 1\n",
    "    if i > 5:\n",
    "        break"
   ]
  },
  {
   "cell_type": "code",
   "execution_count": null,
   "metadata": {},
   "outputs": [],
   "source": [
    "datagen = image.ImageDataGenerator(zoom_range=0.9)\n",
    "#zoom_range参数可以让图片在长或宽的方向进行放大，可以理解为某方向的resize，\n",
    "#因此这个参数可以是一个数或者是一个list。当给出一个数时，图片同时在长宽两个方向进行同等程度的放缩操作；\n",
    "#当给出一个list时，则代表[width_zoom_range, height_zoom_range]，即分别对长宽进行不同程度的放缩。\n",
    "#而参数大于0小于1时，执行的是放大操作，当参数大于1时，执行的是缩小操作。\n",
    "\n",
    "img_arrays = np.array(img_datas)\n",
    "print(img_arrays.shape)\n",
    "#datagen.fit(img_datas)\n",
    "img_iter = datagen.flow(img_arrays, batch_size=1)\n",
    "\n",
    "i = 1\n",
    "\n",
    "for img in img_iter:\n",
    "    print(img[0].shape)\n",
    "    plt.subplot(5, 1, i)\n",
    "    plt.imshow(img[0]/255.)\n",
    "    i += 1\n",
    "    if i > 5:\n",
    "        break"
   ]
  },
  {
   "cell_type": "code",
   "execution_count": null,
   "metadata": {},
   "outputs": [],
   "source": [
    "datagen = image.ImageDataGenerator(channel_shift_range=100)\n",
    "#channel_shift_range可以理解成改变图片的颜色，通过对颜色通道的数值偏移，改变图片的整体的颜色，\n",
    "#这意味着是“整张图”呈现某一种颜色，像是加了一块有色玻璃在图片前面一样，因此它并不能单独改变图片某一元素的颜色，\n",
    "#当数值越大时，颜色变深的效果越强\n",
    "img_arrays = np.array(img_datas)\n",
    "print(img_arrays.shape)\n",
    "#datagen.fit(img_datas)\n",
    "img_iter = datagen.flow(img_arrays, batch_size=1)\n",
    "\n",
    "i = 1\n",
    "\n",
    "for img in img_iter:\n",
    "    print(img[0].shape)\n",
    "    plt.subplot(5, 1, i)\n",
    "    plt.imshow(img[0]/255.)\n",
    "    i += 1\n",
    "    if i > 5:\n",
    "        break\n"
   ]
  },
  {
   "cell_type": "code",
   "execution_count": null,
   "metadata": {},
   "outputs": [],
   "source": [
    "datagen = image.ImageDataGenerator(horizontal_flip=True) #vertical_flip\n",
    "#horizontal_flip的作用是随机对图片执行水平翻转操作，\n",
    "#意味着不一定对所有图片都会执行水平翻转，每次生成均是随机选取图片进行翻转\n",
    "img_arrays = np.array(img_datas)\n",
    "print(img_arrays.shape)\n",
    "#datagen.fit(img_datas)\n",
    "img_iter = datagen.flow(img_arrays, batch_size=1)\n",
    "\n",
    "i = 1\n",
    "\n",
    "for img in img_iter:\n",
    "    print(img[0].shape)\n",
    "    plt.subplot(5, 1, i)\n",
    "    plt.imshow(img[0]/255.)\n",
    "    i += 1\n",
    "    if i > 5:\n",
    "        break"
   ]
  },
  {
   "cell_type": "code",
   "execution_count": null,
   "metadata": {},
   "outputs": [],
   "source": [
    "#rescale的作用是对图片的每个像素值均乘上这个放缩因子，这个操作在所有其它变换操作之前执行，\n",
    "#在一些模型当中，直接输入原图的像素值可能会落入激活函数的“死亡区”，因此设置放缩因子为1/255，\n",
    "#把像素值放缩到0和1之间有利于模型的收敛，避免神经元“死亡”。\n",
    "datagen = image.ImageDataGenerator(rescale= 1/255, width_shift_range=0.1)\n",
    "\n",
    "\n",
    "datagen = image.ImageDataGenerator(fill_mode='wrap', zoom_range=[4, 4])\n",
    "#fill_mode为填充模式，如前面提到，当对图片进行平移、放缩、错切等操作时，\n",
    "#图片中会出现一些缺失的地方，那这些缺失的地方该用什么方式补全呢？\n",
    "#就由fill_mode中的参数确定，包括：“constant”、“nearest”（默认）、“reflect”和“wrap”。\n",
    "#当设置为“constant”时，还有一个可选参数，cval，代表使用某个固定数值的颜色来进行填充"
   ]
  },
  {
   "cell_type": "code",
   "execution_count": null,
   "metadata": {},
   "outputs": [],
   "source": []
  },
  {
   "cell_type": "code",
   "execution_count": null,
   "metadata": {},
   "outputs": [],
   "source": []
  },
  {
   "cell_type": "code",
   "execution_count": null,
   "metadata": {},
   "outputs": [],
   "source": []
  },
  {
   "cell_type": "code",
   "execution_count": null,
   "metadata": {},
   "outputs": [],
   "source": [
    "help(image.ImageDataGenerator.flow)"
   ]
  },
  {
   "cell_type": "code",
   "execution_count": null,
   "metadata": {},
   "outputs": [],
   "source": []
  }
 ],
 "metadata": {
  "kernelspec": {
   "display_name": "python35",
   "language": "python",
   "name": "python35"
  },
  "language_info": {
   "codemirror_mode": {
    "name": "ipython",
    "version": 3
   },
   "file_extension": ".py",
   "mimetype": "text/x-python",
   "name": "python",
   "nbconvert_exporter": "python",
   "pygments_lexer": "ipython3",
   "version": "3.5.6"
  }
 },
 "nbformat": 4,
 "nbformat_minor": 2
}
