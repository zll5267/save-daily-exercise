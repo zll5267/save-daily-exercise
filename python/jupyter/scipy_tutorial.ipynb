{
 "cells": [
  {
   "cell_type": "code",
   "execution_count": 1,
   "metadata": {},
   "outputs": [],
   "source": [
    "import numpy as np\n",
    "import matplotlib as mpl\n",
    "import matplotlib.pyplot as plt\n",
    "\n"
   ]
  },
  {
   "cell_type": "code",
   "execution_count": null,
   "metadata": {},
   "outputs": [],
   "source": [
    "#Subpackage\tDescription\n",
    "#cluster\tClustering algorithms\n",
    "#constants\tPhysical and mathematical constants\n",
    "#fftpack\tFast Fourier Transform routines\n",
    "#integrate\tIntegration and ordinary differential equation solvers\n",
    "#interpolate\tInterpolation and smoothing splines\n",
    "#io\tInput and Output\n",
    "#linalg\tLinear algebra\n",
    "#ndimage\tN-dimensional image processing\n",
    "#odr\tOrthogonal distance regression\n",
    "#optimize\tOptimization and root-finding routines\n",
    "#signal\tSignal processing\n",
    "#sparse\tSparse matrices and associated routines\n",
    "#spatial\tSpatial data structures and algorithms\n",
    "#special\tSpecial functions\n",
    "#stats\tStatistical distributions and functions"
   ]
  },
  {
   "cell_type": "code",
   "execution_count": 2,
   "metadata": {},
   "outputs": [
    {
     "data": {
      "text/plain": [
       "array([ 3.        ,  0.        ,  0.        ,  0.        ,  0.        ,\n",
       "        0.        , -1.        , -0.77777778, -0.55555556, -0.33333333,\n",
       "       -0.11111111,  0.11111111,  0.33333333,  0.55555556,  0.77777778,\n",
       "        1.        ])"
      ]
     },
     "execution_count": 2,
     "metadata": {},
     "output_type": "execute_result"
    }
   ],
   "source": [
    "a = np.concatenate(([3], [0]*5, np.arange(-1, 1.002, 2/9.0)))\n",
    "a"
   ]
  },
  {
   "cell_type": "code",
   "execution_count": 4,
   "metadata": {},
   "outputs": [],
   "source": [
    "np.c_?"
   ]
  },
  {
   "cell_type": "code",
   "execution_count": 2,
   "metadata": {},
   "outputs": [
    {
     "ename": "NameError",
     "evalue": "name 'scipy' is not defined",
     "output_type": "error",
     "traceback": [
      "\u001b[1;31m---------------------------------------------------------------------------\u001b[0m",
      "\u001b[1;31mNameError\u001b[0m                                 Traceback (most recent call last)",
      "\u001b[1;32m<ipython-input-2-ca2d5fcc6089>\u001b[0m in \u001b[0;36m<module>\u001b[1;34m()\u001b[0m\n\u001b[1;32m----> 1\u001b[1;33m \u001b[0mscipy\u001b[0m\u001b[1;33m.\u001b[0m\u001b[0minfo\u001b[0m\u001b[1;33m(\u001b[0m\u001b[0mscipy\u001b[0m\u001b[1;33m.\u001b[0m\u001b[0mstats\u001b[0m\u001b[1;33m)\u001b[0m\u001b[1;33m\u001b[0m\u001b[0m\n\u001b[0m",
      "\u001b[1;31mNameError\u001b[0m: name 'scipy' is not defined"
     ]
    }
   ],
   "source": []
  },
  {
   "cell_type": "code",
   "execution_count": null,
   "metadata": {},
   "outputs": [],
   "source": []
  },
  {
   "cell_type": "code",
   "execution_count": null,
   "metadata": {},
   "outputs": [],
   "source": []
  },
  {
   "cell_type": "code",
   "execution_count": 16,
   "metadata": {},
   "outputs": [],
   "source": [
    "#scipy.optimize.curve_fit\n",
    "from scipy.optimize import curve_fit\n",
    "def func(x, a, b):\n",
    "    return a*x + b\n",
    "x = np.linspace(0, 10, 100)\n",
    "y = func(x, 1, 2)\n",
    "yn = y + 0.9 * np.random.normal(size=len(x))\n",
    "\n",
    "popt, pcov = curve_fit(func, x, yn)\n",
    "#popt returns the best fit values for parameters of the given model(func)"
   ]
  },
  {
   "cell_type": "code",
   "execution_count": 4,
   "metadata": {},
   "outputs": [
    {
     "name": "stdout",
     "output_type": "stream",
     "text": [
      "[0.97261506 2.1547641 ]\n"
     ]
    }
   ],
   "source": [
    "print(popt)"
   ]
  },
  {
   "cell_type": "code",
   "execution_count": 5,
   "metadata": {},
   "outputs": [
    {
     "name": "stdout",
     "output_type": "stream",
     "text": [
      "[[ 0.000948   -0.00474   ]\n",
      " [-0.00474     0.03175962]]\n"
     ]
    }
   ],
   "source": [
    "print(pcov)\n",
    "# the diagonal elements are the variances for each parameter"
   ]
  },
  {
   "cell_type": "code",
   "execution_count": 5,
   "metadata": {},
   "outputs": [
    {
     "ename": "NameError",
     "evalue": "name 'plt' is not defined",
     "output_type": "error",
     "traceback": [
      "\u001b[1;31m---------------------------------------------------------------------------\u001b[0m",
      "\u001b[1;31mNameError\u001b[0m                                 Traceback (most recent call last)",
      "\u001b[1;32m<ipython-input-5-dd858cf7dc61>\u001b[0m in \u001b[0;36m<module>\u001b[1;34m()\u001b[0m\n\u001b[1;32m----> 1\u001b[1;33m \u001b[0mplt\u001b[0m\u001b[1;33m.\u001b[0m\u001b[0mplot\u001b[0m\u001b[1;33m(\u001b[0m\u001b[0mx\u001b[0m\u001b[1;33m,\u001b[0m \u001b[0myn\u001b[0m\u001b[1;33m,\u001b[0m \u001b[1;34m'b+'\u001b[0m\u001b[1;33m)\u001b[0m\u001b[1;33m\u001b[0m\u001b[0m\n\u001b[0m\u001b[0;32m      2\u001b[0m \u001b[0ml1\u001b[0m\u001b[1;33m,\u001b[0m \u001b[1;33m=\u001b[0m \u001b[0mplt\u001b[0m\u001b[1;33m.\u001b[0m\u001b[0mplot\u001b[0m\u001b[1;33m(\u001b[0m\u001b[0mx\u001b[0m\u001b[1;33m,\u001b[0m \u001b[0my\u001b[0m\u001b[1;33m,\u001b[0m \u001b[1;34m'r'\u001b[0m\u001b[1;33m)\u001b[0m\u001b[1;33m\u001b[0m\u001b[0m\n\u001b[0;32m      3\u001b[0m \u001b[0mye\u001b[0m \u001b[1;33m=\u001b[0m \u001b[0mfunc\u001b[0m\u001b[1;33m(\u001b[0m\u001b[0mx\u001b[0m\u001b[1;33m,\u001b[0m \u001b[0mpopt\u001b[0m\u001b[1;33m[\u001b[0m\u001b[1;36m0\u001b[0m\u001b[1;33m]\u001b[0m\u001b[1;33m,\u001b[0m \u001b[0mpopt\u001b[0m\u001b[1;33m[\u001b[0m\u001b[1;36m1\u001b[0m\u001b[1;33m]\u001b[0m\u001b[1;33m)\u001b[0m\u001b[1;33m\u001b[0m\u001b[0m\n\u001b[0;32m      4\u001b[0m \u001b[0ml2\u001b[0m\u001b[1;33m,\u001b[0m \u001b[1;33m=\u001b[0m \u001b[0mplt\u001b[0m\u001b[1;33m.\u001b[0m\u001b[0mplot\u001b[0m\u001b[1;33m(\u001b[0m\u001b[0mx\u001b[0m\u001b[1;33m,\u001b[0m \u001b[0mye\u001b[0m\u001b[1;33m,\u001b[0m \u001b[1;34m'g'\u001b[0m\u001b[1;33m)\u001b[0m\u001b[1;33m\u001b[0m\u001b[0m\n\u001b[0;32m      5\u001b[0m \u001b[0mplt\u001b[0m\u001b[1;33m.\u001b[0m\u001b[0mlegend\u001b[0m\u001b[1;33m(\u001b[0m\u001b[0mhandles\u001b[0m\u001b[1;33m=\u001b[0m\u001b[1;33m[\u001b[0m\u001b[0ml1\u001b[0m\u001b[1;33m,\u001b[0m \u001b[0ml2\u001b[0m\u001b[1;33m]\u001b[0m\u001b[1;33m,\u001b[0m \u001b[0mlabels\u001b[0m\u001b[1;33m=\u001b[0m\u001b[1;33m[\u001b[0m\u001b[1;34m'Function'\u001b[0m\u001b[1;33m,\u001b[0m \u001b[1;34m'Best Fit'\u001b[0m\u001b[1;33m]\u001b[0m\u001b[1;33m,\u001b[0m \u001b[0mloc\u001b[0m\u001b[1;33m=\u001b[0m\u001b[1;34m'best'\u001b[0m\u001b[1;33m)\u001b[0m\u001b[1;33m\u001b[0m\u001b[0m\n",
      "\u001b[1;31mNameError\u001b[0m: name 'plt' is not defined"
     ]
    }
   ],
   "source": [
    "plt.plot(x, yn, 'b+')\n",
    "l1, = plt.plot(x, y, 'r')\n",
    "ye = func(x, popt[0], popt[1])\n",
    "l2, = plt.plot(x, ye, 'g')\n",
    "plt.legend(handles=[l1, l2], labels=['Function', 'Best Fit'], loc='best')\n",
    "plt.show()"
   ]
  },
  {
   "cell_type": "code",
   "execution_count": 23,
   "metadata": {},
   "outputs": [
    {
     "name": "stdout",
     "output_type": "stream",
     "text": [
      "[ 0.96384334  4.94761592 -2.01056795]\n",
      "[[1.70733223e-03 3.17416014e-06 2.42738483e-03]\n",
      " [3.17416014e-06 9.87227421e-03 1.59770874e-05]\n",
      " [2.42738483e-03 1.59770874e-05 1.01797144e-02]]\n"
     ]
    }
   ],
   "source": [
    "\n",
    "def func2(x, a, b, c):\n",
    "    return a * np.exp(-(x-b)**2/(2*c**2))\n",
    "\n",
    "x = np.linspace(0, 10, 100)\n",
    "y = func2(x, 1, 5, 2)\n",
    "\n",
    "yn = y + 0.2 * np.random.normal(size=len(x))\n",
    "\n",
    "popt, pcov = curve_fit(func2, x, yn)\n",
    "print(popt)\n",
    "print(pcov)"
   ]
  },
  {
   "cell_type": "code",
   "execution_count": 6,
   "metadata": {},
   "outputs": [
    {
     "ename": "NameError",
     "evalue": "name 'plt' is not defined",
     "output_type": "error",
     "traceback": [
      "\u001b[1;31m---------------------------------------------------------------------------\u001b[0m",
      "\u001b[1;31mNameError\u001b[0m                                 Traceback (most recent call last)",
      "\u001b[1;32m<ipython-input-6-1bf770d89b9c>\u001b[0m in \u001b[0;36m<module>\u001b[1;34m()\u001b[0m\n\u001b[1;32m----> 1\u001b[1;33m \u001b[0mplt\u001b[0m\u001b[1;33m.\u001b[0m\u001b[0mplot\u001b[0m\u001b[1;33m(\u001b[0m\u001b[0mx\u001b[0m\u001b[1;33m,\u001b[0m \u001b[0my\u001b[0m\u001b[1;33m,\u001b[0m \u001b[1;34m'r'\u001b[0m\u001b[1;33m,\u001b[0m \u001b[0mlabel\u001b[0m\u001b[1;33m=\u001b[0m\u001b[1;34m'Function'\u001b[0m\u001b[1;33m)\u001b[0m\u001b[1;33m\u001b[0m\u001b[0m\n\u001b[0m\u001b[0;32m      2\u001b[0m \u001b[0mplt\u001b[0m\u001b[1;33m.\u001b[0m\u001b[0mplot\u001b[0m\u001b[1;33m(\u001b[0m\u001b[0mx\u001b[0m\u001b[1;33m,\u001b[0m \u001b[0myn\u001b[0m\u001b[1;33m,\u001b[0m \u001b[1;34m'b+'\u001b[0m\u001b[1;33m)\u001b[0m\u001b[1;33m\u001b[0m\u001b[0m\n\u001b[0;32m      3\u001b[0m \u001b[0mye\u001b[0m \u001b[1;33m=\u001b[0m \u001b[0mfunc2\u001b[0m\u001b[1;33m(\u001b[0m\u001b[0mx\u001b[0m\u001b[1;33m,\u001b[0m \u001b[0mpopt\u001b[0m\u001b[1;33m[\u001b[0m\u001b[1;36m0\u001b[0m\u001b[1;33m]\u001b[0m\u001b[1;33m,\u001b[0m \u001b[0mpopt\u001b[0m\u001b[1;33m[\u001b[0m\u001b[1;36m1\u001b[0m\u001b[1;33m]\u001b[0m\u001b[1;33m,\u001b[0m \u001b[0mpopt\u001b[0m\u001b[1;33m[\u001b[0m\u001b[1;36m2\u001b[0m\u001b[1;33m]\u001b[0m\u001b[1;33m)\u001b[0m\u001b[1;33m\u001b[0m\u001b[0m\n\u001b[0;32m      4\u001b[0m \u001b[0mplt\u001b[0m\u001b[1;33m.\u001b[0m\u001b[0mplot\u001b[0m\u001b[1;33m(\u001b[0m\u001b[0mx\u001b[0m\u001b[1;33m,\u001b[0m \u001b[0mye\u001b[0m\u001b[1;33m,\u001b[0m \u001b[1;34m'g'\u001b[0m\u001b[1;33m,\u001b[0m \u001b[0mlabel\u001b[0m\u001b[1;33m=\u001b[0m\u001b[1;34m'Best Fit'\u001b[0m\u001b[1;33m)\u001b[0m\u001b[1;33m\u001b[0m\u001b[0m\n\u001b[0;32m      5\u001b[0m \u001b[0mplt\u001b[0m\u001b[1;33m.\u001b[0m\u001b[0mlegend\u001b[0m\u001b[1;33m(\u001b[0m\u001b[0mloc\u001b[0m\u001b[1;33m=\u001b[0m\u001b[1;34m\"best\"\u001b[0m\u001b[1;33m)\u001b[0m\u001b[1;33m\u001b[0m\u001b[0m\n",
      "\u001b[1;31mNameError\u001b[0m: name 'plt' is not defined"
     ]
    }
   ],
   "source": [
    "plt.plot(x, y, 'r', label='Function')\n",
    "plt.plot(x, yn, 'b+')\n",
    "ye = func2(x, popt[0], popt[1], popt[2])\n",
    "plt.plot(x, ye, 'g', label='Best Fit')\n",
    "plt.legend(loc=\"best\")"
   ]
  },
  {
   "cell_type": "code",
   "execution_count": 7,
   "metadata": {},
   "outputs": [
    {
     "ename": "NameError",
     "evalue": "name 'np' is not defined",
     "output_type": "error",
     "traceback": [
      "\u001b[1;31m---------------------------------------------------------------------------\u001b[0m",
      "\u001b[1;31mNameError\u001b[0m                                 Traceback (most recent call last)",
      "\u001b[1;32m<ipython-input-7-2674bf7b7ae0>\u001b[0m in \u001b[0;36m<module>\u001b[1;34m()\u001b[0m\n\u001b[0;32m      1\u001b[0m \u001b[1;32mdef\u001b[0m \u001b[0mfunc\u001b[0m\u001b[1;33m(\u001b[0m\u001b[0mx\u001b[0m\u001b[1;33m,\u001b[0m \u001b[0ma0\u001b[0m\u001b[1;33m,\u001b[0m \u001b[0mb0\u001b[0m\u001b[1;33m,\u001b[0m \u001b[0mc0\u001b[0m\u001b[1;33m,\u001b[0m \u001b[0ma1\u001b[0m\u001b[1;33m,\u001b[0m \u001b[0mb1\u001b[0m\u001b[1;33m,\u001b[0m \u001b[0mc1\u001b[0m\u001b[1;33m)\u001b[0m\u001b[1;33m:\u001b[0m\u001b[1;33m\u001b[0m\u001b[0m\n\u001b[0;32m      2\u001b[0m     \u001b[1;32mreturn\u001b[0m \u001b[0ma0\u001b[0m\u001b[1;33m*\u001b[0m\u001b[0mnp\u001b[0m\u001b[1;33m.\u001b[0m\u001b[0mexp\u001b[0m\u001b[1;33m(\u001b[0m\u001b[1;33m-\u001b[0m\u001b[1;33m(\u001b[0m\u001b[0mx\u001b[0m\u001b[1;33m-\u001b[0m\u001b[0mb0\u001b[0m\u001b[1;33m)\u001b[0m\u001b[1;33m**\u001b[0m\u001b[1;36m2\u001b[0m\u001b[1;33m/\u001b[0m\u001b[1;33m(\u001b[0m\u001b[1;36m2\u001b[0m\u001b[1;33m*\u001b[0m\u001b[0mc0\u001b[0m\u001b[1;33m**\u001b[0m\u001b[1;36m2\u001b[0m\u001b[1;33m)\u001b[0m\u001b[1;33m)\u001b[0m \u001b[1;33m+\u001b[0m \u001b[0ma1\u001b[0m\u001b[1;33m*\u001b[0m\u001b[0mnp\u001b[0m\u001b[1;33m.\u001b[0m\u001b[0mexp\u001b[0m\u001b[1;33m(\u001b[0m\u001b[1;33m-\u001b[0m\u001b[1;33m(\u001b[0m\u001b[0mx\u001b[0m\u001b[1;33m-\u001b[0m\u001b[0mb1\u001b[0m\u001b[1;33m)\u001b[0m\u001b[1;33m**\u001b[0m\u001b[1;36m2\u001b[0m\u001b[1;33m/\u001b[0m\u001b[1;33m(\u001b[0m\u001b[1;36m2\u001b[0m\u001b[1;33m*\u001b[0m\u001b[0mc1\u001b[0m\u001b[1;33m**\u001b[0m\u001b[1;36m2\u001b[0m\u001b[1;33m)\u001b[0m\u001b[1;33m)\u001b[0m\u001b[1;33m\u001b[0m\u001b[0m\n\u001b[1;32m----> 3\u001b[1;33m \u001b[0mx\u001b[0m \u001b[1;33m=\u001b[0m \u001b[0mnp\u001b[0m\u001b[1;33m.\u001b[0m\u001b[0mlinspace\u001b[0m\u001b[1;33m(\u001b[0m\u001b[1;36m0\u001b[0m\u001b[1;33m,\u001b[0m \u001b[1;36m20\u001b[0m\u001b[1;33m,\u001b[0m \u001b[1;36m200\u001b[0m\u001b[1;33m)\u001b[0m\u001b[1;33m\u001b[0m\u001b[0m\n\u001b[0m\u001b[0;32m      4\u001b[0m \u001b[0my\u001b[0m \u001b[1;33m=\u001b[0m \u001b[0mfunc\u001b[0m\u001b[1;33m(\u001b[0m\u001b[0mx\u001b[0m\u001b[1;33m,\u001b[0m \u001b[1;36m1\u001b[0m\u001b[1;33m,\u001b[0m \u001b[1;36m3\u001b[0m\u001b[1;33m,\u001b[0m \u001b[1;36m1\u001b[0m\u001b[1;33m,\u001b[0m \u001b[1;33m-\u001b[0m\u001b[1;36m2\u001b[0m\u001b[1;33m,\u001b[0m \u001b[1;36m15\u001b[0m\u001b[1;33m,\u001b[0m \u001b[1;36m0.5\u001b[0m\u001b[1;33m)\u001b[0m\u001b[1;33m\u001b[0m\u001b[0m\n\u001b[0;32m      5\u001b[0m \u001b[1;31m#adding noise to the data\u001b[0m\u001b[1;33m\u001b[0m\u001b[1;33m\u001b[0m\u001b[0m\n",
      "\u001b[1;31mNameError\u001b[0m: name 'np' is not defined"
     ]
    }
   ],
   "source": [
    "def func(x, a0, b0, c0, a1, b1, c1):\n",
    "    return a0*np.exp(-(x-b0)**2/(2*c0**2)) + a1*np.exp(-(x-b1)**2/(2*c1**2))\n",
    "x = np.linspace(0, 20, 200)\n",
    "y = func(x, 1, 3, 1, -2, 15, 0.5)\n",
    "#adding noise to the data\n",
    "yn = y + 0.2 * np.random.normal(size=len(x))\n",
    "\n",
    "# Since we are fitting a more complex function,\n",
    "# providing guesses for the fitting will lead to\n",
    "# better results.\n",
    "\n",
    "guesses = [1, 3, 1, 1, 15, 1]\n",
    "\n",
    "popt, pcov = curve_fit(func, x, yn, p0=guesses)\n",
    "print(popt)\n",
    "print(pcov)"
   ]
  },
  {
   "cell_type": "code",
   "execution_count": 8,
   "metadata": {},
   "outputs": [
    {
     "ename": "NameError",
     "evalue": "name 'plt' is not defined",
     "output_type": "error",
     "traceback": [
      "\u001b[1;31m---------------------------------------------------------------------------\u001b[0m",
      "\u001b[1;31mNameError\u001b[0m                                 Traceback (most recent call last)",
      "\u001b[1;32m<ipython-input-8-2fff8ab984f9>\u001b[0m in \u001b[0;36m<module>\u001b[1;34m()\u001b[0m\n\u001b[1;32m----> 1\u001b[1;33m \u001b[0mplt\u001b[0m\u001b[1;33m.\u001b[0m\u001b[0mplot\u001b[0m\u001b[1;33m(\u001b[0m\u001b[0mx\u001b[0m\u001b[1;33m,\u001b[0m \u001b[0myn\u001b[0m\u001b[1;33m,\u001b[0m \u001b[1;34m'b+'\u001b[0m\u001b[1;33m)\u001b[0m\u001b[1;33m\u001b[0m\u001b[0m\n\u001b[0m\u001b[0;32m      2\u001b[0m \u001b[0mplt\u001b[0m\u001b[1;33m.\u001b[0m\u001b[0mplot\u001b[0m\u001b[1;33m(\u001b[0m\u001b[0mx\u001b[0m\u001b[1;33m,\u001b[0m \u001b[0my\u001b[0m\u001b[1;33m,\u001b[0m \u001b[1;34m'r'\u001b[0m\u001b[1;33m,\u001b[0m \u001b[0mlabel\u001b[0m\u001b[1;33m=\u001b[0m\u001b[1;34m'Function'\u001b[0m\u001b[1;33m)\u001b[0m\u001b[1;33m\u001b[0m\u001b[0m\n\u001b[0;32m      3\u001b[0m \u001b[0mye\u001b[0m \u001b[1;33m=\u001b[0m \u001b[0mfunc\u001b[0m\u001b[1;33m(\u001b[0m\u001b[0mx\u001b[0m\u001b[1;33m,\u001b[0m \u001b[0mpopt\u001b[0m\u001b[1;33m[\u001b[0m\u001b[1;36m0\u001b[0m\u001b[1;33m]\u001b[0m\u001b[1;33m,\u001b[0m \u001b[0mpopt\u001b[0m\u001b[1;33m[\u001b[0m\u001b[1;36m1\u001b[0m\u001b[1;33m]\u001b[0m\u001b[1;33m,\u001b[0m\u001b[0mpopt\u001b[0m\u001b[1;33m[\u001b[0m\u001b[1;36m2\u001b[0m\u001b[1;33m]\u001b[0m\u001b[1;33m,\u001b[0m\u001b[0mpopt\u001b[0m\u001b[1;33m[\u001b[0m\u001b[1;36m3\u001b[0m\u001b[1;33m]\u001b[0m\u001b[1;33m,\u001b[0m\u001b[0mpopt\u001b[0m\u001b[1;33m[\u001b[0m\u001b[1;36m4\u001b[0m\u001b[1;33m]\u001b[0m\u001b[1;33m,\u001b[0m\u001b[0mpopt\u001b[0m\u001b[1;33m[\u001b[0m\u001b[1;36m5\u001b[0m\u001b[1;33m]\u001b[0m\u001b[1;33m)\u001b[0m\u001b[1;33m\u001b[0m\u001b[0m\n\u001b[0;32m      4\u001b[0m \u001b[0mplt\u001b[0m\u001b[1;33m.\u001b[0m\u001b[0mplot\u001b[0m\u001b[1;33m(\u001b[0m\u001b[0mx\u001b[0m\u001b[1;33m,\u001b[0m \u001b[0my\u001b[0m\u001b[1;33m,\u001b[0m \u001b[1;34m'g'\u001b[0m\u001b[1;33m,\u001b[0m \u001b[0mlabel\u001b[0m\u001b[1;33m=\u001b[0m\u001b[1;34m'Best Fit'\u001b[0m\u001b[1;33m)\u001b[0m\u001b[1;33m\u001b[0m\u001b[0m\n\u001b[0;32m      5\u001b[0m \u001b[0mplt\u001b[0m\u001b[1;33m.\u001b[0m\u001b[0mlegend\u001b[0m\u001b[1;33m(\u001b[0m\u001b[0mloc\u001b[0m\u001b[1;33m=\u001b[0m\u001b[1;34m'best'\u001b[0m\u001b[1;33m)\u001b[0m\u001b[1;33m\u001b[0m\u001b[0m\n",
      "\u001b[1;31mNameError\u001b[0m: name 'plt' is not defined"
     ]
    }
   ],
   "source": [
    "plt.plot(x, yn, 'b+')\n",
    "plt.plot(x, y, 'r', label='Function')\n",
    "ye = func(x, popt[0], popt[1],popt[2],popt[3],popt[4],popt[5])\n",
    "plt.plot(x, y, 'g', label='Best Fit')\n",
    "plt.legend(loc='best')"
   ]
  },
  {
   "cell_type": "code",
   "execution_count": 9,
   "metadata": {},
   "outputs": [
    {
     "name": "stdout",
     "output_type": "stream",
     "text": [
      "[-3.]\n"
     ]
    }
   ],
   "source": [
    "# the root of a function f(x) = 0\n",
    "from scipy.optimize import fsolve\n",
    "line = lambda x: x + 3\n",
    "\n",
    "#-2 is a estimate for the root\n",
    "solution = fsolve(line, -2)\n",
    "print(solution)"
   ]
  },
  {
   "cell_type": "code",
   "execution_count": 1,
   "metadata": {},
   "outputs": [],
   "source": [
    "#help(fsolve)"
   ]
  },
  {
   "cell_type": "code",
   "execution_count": 34,
   "metadata": {},
   "outputs": [
    {
     "name": "stdout",
     "output_type": "stream",
     "text": [
      "[13.40773078 18.11366128 31.78330863 37.0799992  39.84837786 43.8258775 ]\n",
      "[-0.36592269 -0.31886339 -0.18216691 -0.12920001 -0.10151622 -0.06174122]\n",
      "[-0.36592269 -0.31886337 -0.18216691 -0.12920001 -0.10151622 -0.06174122]\n"
     ]
    }
   ],
   "source": [
    "from scipy.optimize import fsolve\n",
    "import numpy as np\n",
    "\n",
    "def findIntersection(func1, func2, x0):\n",
    "    return fsolve(lambda x: func1(x) - func2(x), x0)\n",
    "\n",
    "funky = lambda x : np.cos(x/5) * np.sin(x/2)\n",
    "line = lambda x : 0.01 * x - 0.5\n",
    "\n",
    "x = np.linspace(0, 45, 10000)\n",
    "result = findIntersection(funky, line, [15, 20, 30, 35, 40, 45])\n",
    "\n",
    "print(result)\n",
    "print(line(result))\n",
    "print(funky(result))"
   ]
  },
  {
   "cell_type": "code",
   "execution_count": 10,
   "metadata": {},
   "outputs": [
    {
     "ename": "NameError",
     "evalue": "name 'plt' is not defined",
     "output_type": "error",
     "traceback": [
      "\u001b[1;31m---------------------------------------------------------------------------\u001b[0m",
      "\u001b[1;31mNameError\u001b[0m                                 Traceback (most recent call last)",
      "\u001b[1;32m<ipython-input-10-5a5679ce3cf0>\u001b[0m in \u001b[0;36m<module>\u001b[1;34m()\u001b[0m\n\u001b[1;32m----> 1\u001b[1;33m \u001b[0mplt\u001b[0m\u001b[1;33m.\u001b[0m\u001b[0mplot\u001b[0m\u001b[1;33m(\u001b[0m\u001b[0mx\u001b[0m\u001b[1;33m,\u001b[0m \u001b[0mline\u001b[0m\u001b[1;33m(\u001b[0m\u001b[0mx\u001b[0m\u001b[1;33m)\u001b[0m\u001b[1;33m,\u001b[0m \u001b[1;34m'r'\u001b[0m\u001b[1;33m,\u001b[0m \u001b[0mlabel\u001b[0m\u001b[1;33m=\u001b[0m\u001b[1;34m\"line\"\u001b[0m\u001b[1;33m)\u001b[0m\u001b[1;33m\u001b[0m\u001b[0m\n\u001b[0m\u001b[0;32m      2\u001b[0m \u001b[0mplt\u001b[0m\u001b[1;33m.\u001b[0m\u001b[0mplot\u001b[0m\u001b[1;33m(\u001b[0m\u001b[0mx\u001b[0m\u001b[1;33m,\u001b[0m \u001b[0mfunky\u001b[0m\u001b[1;33m(\u001b[0m\u001b[0mx\u001b[0m\u001b[1;33m)\u001b[0m\u001b[1;33m,\u001b[0m \u001b[1;34m'g'\u001b[0m\u001b[1;33m,\u001b[0m \u001b[0mlabel\u001b[0m\u001b[1;33m=\u001b[0m\u001b[1;34m'funky'\u001b[0m\u001b[1;33m)\u001b[0m\u001b[1;33m\u001b[0m\u001b[0m\n\u001b[0;32m      3\u001b[0m \u001b[0mplt\u001b[0m\u001b[1;33m.\u001b[0m\u001b[0mplot\u001b[0m\u001b[1;33m(\u001b[0m\u001b[0mresult\u001b[0m\u001b[1;33m,\u001b[0m \u001b[0mline\u001b[0m\u001b[1;33m(\u001b[0m\u001b[0mresult\u001b[0m\u001b[1;33m)\u001b[0m\u001b[1;33m,\u001b[0m \u001b[1;34m'bo'\u001b[0m\u001b[1;33m)\u001b[0m\u001b[1;33m\u001b[0m\u001b[0m\n\u001b[0;32m      4\u001b[0m \u001b[0mplt\u001b[0m\u001b[1;33m.\u001b[0m\u001b[0mlegend\u001b[0m\u001b[1;33m(\u001b[0m\u001b[0mloc\u001b[0m\u001b[1;33m=\u001b[0m\u001b[1;34m'best'\u001b[0m\u001b[1;33m)\u001b[0m\u001b[1;33m\u001b[0m\u001b[0m\n",
      "\u001b[1;31mNameError\u001b[0m: name 'plt' is not defined"
     ]
    }
   ],
   "source": [
    "plt.plot(x, line(x), 'r', label=\"line\")\n",
    "plt.plot(x, funky(x), 'g', label='funky')\n",
    "plt.plot(result, line(result), 'bo')\n",
    "plt.legend(loc='best')"
   ]
  },
  {
   "cell_type": "code",
   "execution_count": 2,
   "metadata": {},
   "outputs": [],
   "source": [
    "# interpolation\n",
    "from scipy.interpolate import interp1d\n",
    "#help(interp1d)"
   ]
  },
  {
   "cell_type": "code",
   "execution_count": 11,
   "metadata": {},
   "outputs": [
    {
     "ename": "NameError",
     "evalue": "name 'np' is not defined",
     "output_type": "error",
     "traceback": [
      "\u001b[1;31m---------------------------------------------------------------------------\u001b[0m",
      "\u001b[1;31mNameError\u001b[0m                                 Traceback (most recent call last)",
      "\u001b[1;32m<ipython-input-11-7500eb0694d0>\u001b[0m in \u001b[0;36m<module>\u001b[1;34m()\u001b[0m\n\u001b[1;32m----> 1\u001b[1;33m \u001b[0mx\u001b[0m \u001b[1;33m=\u001b[0m \u001b[0mnp\u001b[0m\u001b[1;33m.\u001b[0m\u001b[0mlinspace\u001b[0m\u001b[1;33m(\u001b[0m\u001b[1;36m0\u001b[0m\u001b[1;33m,\u001b[0m \u001b[1;36m10\u001b[0m\u001b[1;33m*\u001b[0m\u001b[0mnp\u001b[0m\u001b[1;33m.\u001b[0m\u001b[0mpi\u001b[0m\u001b[1;33m,\u001b[0m \u001b[1;36m20\u001b[0m\u001b[1;33m)\u001b[0m\u001b[1;33m\u001b[0m\u001b[0m\n\u001b[0m\u001b[0;32m      2\u001b[0m \u001b[0my\u001b[0m \u001b[1;33m=\u001b[0m \u001b[0mnp\u001b[0m\u001b[1;33m.\u001b[0m\u001b[0mcos\u001b[0m\u001b[1;33m(\u001b[0m\u001b[0mx\u001b[0m\u001b[1;33m)\u001b[0m\u001b[1;33m\u001b[0m\u001b[0m\n\u001b[0;32m      3\u001b[0m \u001b[1;33m\u001b[0m\u001b[0m\n\u001b[0;32m      4\u001b[0m \u001b[0mfl\u001b[0m \u001b[1;33m=\u001b[0m \u001b[0minterp1d\u001b[0m\u001b[1;33m(\u001b[0m\u001b[0mx\u001b[0m\u001b[1;33m,\u001b[0m \u001b[0my\u001b[0m\u001b[1;33m,\u001b[0m \u001b[0mkind\u001b[0m\u001b[1;33m=\u001b[0m\u001b[1;34m'linear'\u001b[0m\u001b[1;33m)\u001b[0m\u001b[1;33m\u001b[0m\u001b[0m\n\u001b[0;32m      5\u001b[0m \u001b[0mfq\u001b[0m \u001b[1;33m=\u001b[0m \u001b[0minterp1d\u001b[0m\u001b[1;33m(\u001b[0m\u001b[0mx\u001b[0m\u001b[1;33m,\u001b[0m \u001b[0my\u001b[0m\u001b[1;33m,\u001b[0m \u001b[0mkind\u001b[0m\u001b[1;33m=\u001b[0m\u001b[1;34m'quadratic'\u001b[0m\u001b[1;33m)\u001b[0m\u001b[1;33m\u001b[0m\u001b[0m\n",
      "\u001b[1;31mNameError\u001b[0m: name 'np' is not defined"
     ]
    }
   ],
   "source": [
    "x = np.linspace(0, 10*np.pi, 20)\n",
    "y = np.cos(x)\n",
    "\n",
    "fl = interp1d(x, y, kind='linear')\n",
    "fq = interp1d(x, y, kind='quadratic') \n",
    "\n",
    "xint = np.linspace(x.min(), x.max(), 1000)\n",
    "yintl = fl(xint)\n",
    "yintq = fq(xint)\n",
    "yreal = np.cos(xint)\n",
    "plt.plot(xint, yreal, 'r', label=\"Function\")\n",
    "plt.plot(xint, yintl, 'b', label=\"Linear\")\n",
    "plt.plot(xint, yintq, 'g', label=\"quadratic\")\n",
    "plt.plot(x, y, 'bo')\n",
    "plt.legend(loc='best')"
   ]
  },
  {
   "cell_type": "code",
   "execution_count": 12,
   "metadata": {},
   "outputs": [
    {
     "ename": "NameError",
     "evalue": "name 'np' is not defined",
     "output_type": "error",
     "traceback": [
      "\u001b[1;31m---------------------------------------------------------------------------\u001b[0m",
      "\u001b[1;31mNameError\u001b[0m                                 Traceback (most recent call last)",
      "\u001b[1;32m<ipython-input-12-f5f529db1638>\u001b[0m in \u001b[0;36m<module>\u001b[1;34m()\u001b[0m\n\u001b[0;32m      3\u001b[0m \u001b[1;33m\u001b[0m\u001b[0m\n\u001b[0;32m      4\u001b[0m \u001b[0msample\u001b[0m \u001b[1;33m=\u001b[0m \u001b[1;36m30\u001b[0m\u001b[1;33m\u001b[0m\u001b[0m\n\u001b[1;32m----> 5\u001b[1;33m \u001b[0mx\u001b[0m \u001b[1;33m=\u001b[0m \u001b[0mnp\u001b[0m\u001b[1;33m.\u001b[0m\u001b[0mlinspace\u001b[0m\u001b[1;33m(\u001b[0m\u001b[1;36m1\u001b[0m\u001b[1;33m,\u001b[0m \u001b[1;36m10\u001b[0m\u001b[1;33m*\u001b[0m\u001b[0mnp\u001b[0m\u001b[1;33m.\u001b[0m\u001b[0mpi\u001b[0m\u001b[1;33m,\u001b[0m \u001b[0msample\u001b[0m\u001b[1;33m)\u001b[0m\u001b[1;33m\u001b[0m\u001b[0m\n\u001b[0m\u001b[0;32m      6\u001b[0m \u001b[0my\u001b[0m \u001b[1;33m=\u001b[0m \u001b[0mnp\u001b[0m\u001b[1;33m.\u001b[0m\u001b[0mcos\u001b[0m\u001b[1;33m(\u001b[0m\u001b[0mx\u001b[0m\u001b[1;33m)\u001b[0m \u001b[1;33m+\u001b[0m \u001b[0mnp\u001b[0m\u001b[1;33m.\u001b[0m\u001b[0mlog10\u001b[0m\u001b[1;33m(\u001b[0m\u001b[0mx\u001b[0m\u001b[1;33m)\u001b[0m \u001b[1;33m+\u001b[0m \u001b[0mnp\u001b[0m\u001b[1;33m.\u001b[0m\u001b[0mrandom\u001b[0m\u001b[1;33m.\u001b[0m\u001b[0mrandn\u001b[0m\u001b[1;33m(\u001b[0m\u001b[0msample\u001b[0m\u001b[1;33m)\u001b[0m\u001b[1;33m/\u001b[0m\u001b[1;36m10\u001b[0m\u001b[1;33m\u001b[0m\u001b[0m\n\u001b[0;32m      7\u001b[0m \u001b[1;33m\u001b[0m\u001b[0m\n",
      "\u001b[1;31mNameError\u001b[0m: name 'np' is not defined"
     ]
    }
   ],
   "source": [
    "#with noise data interpolate\n",
    "from scipy.interpolate import UnivariateSpline\n",
    "\n",
    "sample = 30\n",
    "x = np.linspace(1, 10*np.pi, sample)\n",
    "y = np.cos(x) + np.log10(x) + np.random.randn(sample)/10\n",
    "\n",
    "# s is smoothing factor, which should be used when fitting data with noise\n",
    "f = UnivariateSpline(x, y, s=1)\n",
    "\n",
    "xint = np.linspace(x.min(), x.max(), 1000)\n",
    "yint = f(xint)\n",
    "yreal = np.cos(xint) + np.log10(xint)\n",
    "\n",
    "plt.plot(xint, yint, label='original')\n",
    "plt.plot(xint, yreal, label=\"interpolation\")\n",
    "plt.plot(x, y, 'o')\n",
    "plt.legend()"
   ]
  },
  {
   "cell_type": "code",
   "execution_count": 13,
   "metadata": {},
   "outputs": [
    {
     "ename": "NameError",
     "evalue": "name 'np' is not defined",
     "output_type": "error",
     "traceback": [
      "\u001b[1;31m---------------------------------------------------------------------------\u001b[0m",
      "\u001b[1;31mNameError\u001b[0m                                 Traceback (most recent call last)",
      "\u001b[1;32m<ipython-input-13-528ee69c57e7>\u001b[0m in \u001b[0;36m<module>\u001b[1;34m()\u001b[0m\n\u001b[0;32m      5\u001b[0m \u001b[0mripple\u001b[0m \u001b[1;33m=\u001b[0m \u001b[1;32mlambda\u001b[0m \u001b[0mx\u001b[0m\u001b[1;33m,\u001b[0m\u001b[0my\u001b[0m\u001b[1;33m:\u001b[0m \u001b[0mnp\u001b[0m\u001b[1;33m.\u001b[0m\u001b[0msqrt\u001b[0m\u001b[1;33m(\u001b[0m\u001b[0mx\u001b[0m\u001b[1;33m**\u001b[0m\u001b[1;36m2\u001b[0m \u001b[1;33m+\u001b[0m \u001b[0my\u001b[0m\u001b[1;33m**\u001b[0m\u001b[1;36m2\u001b[0m\u001b[1;33m)\u001b[0m \u001b[1;33m+\u001b[0m \u001b[0mnp\u001b[0m\u001b[1;33m.\u001b[0m\u001b[0msin\u001b[0m\u001b[1;33m(\u001b[0m\u001b[0mx\u001b[0m\u001b[1;33m**\u001b[0m\u001b[1;36m2\u001b[0m \u001b[1;33m+\u001b[0m \u001b[0my\u001b[0m\u001b[1;33m**\u001b[0m\u001b[1;36m2\u001b[0m\u001b[1;33m)\u001b[0m\u001b[1;33m\u001b[0m\u001b[0m\n\u001b[0;32m      6\u001b[0m \u001b[1;33m\u001b[0m\u001b[0m\n\u001b[1;32m----> 7\u001b[1;33m \u001b[0mgrid_x\u001b[0m\u001b[1;33m,\u001b[0m \u001b[0mgrid_y\u001b[0m \u001b[1;33m=\u001b[0m \u001b[0mnp\u001b[0m\u001b[1;33m.\u001b[0m\u001b[0mmgrid\u001b[0m\u001b[1;33m[\u001b[0m\u001b[1;36m0\u001b[0m\u001b[1;33m:\u001b[0m\u001b[1;36m5\u001b[0m\u001b[1;33m:\u001b[0m\u001b[1;36m1000j\u001b[0m\u001b[1;33m,\u001b[0m \u001b[1;36m0\u001b[0m\u001b[1;33m:\u001b[0m\u001b[1;36m5\u001b[0m\u001b[1;33m:\u001b[0m\u001b[1;36m1000j\u001b[0m\u001b[1;33m]\u001b[0m\u001b[1;33m\u001b[0m\u001b[0m\n\u001b[0m\u001b[0;32m      8\u001b[0m \u001b[0mgrid_z\u001b[0m \u001b[1;33m=\u001b[0m \u001b[0mripple\u001b[0m\u001b[1;33m(\u001b[0m\u001b[0mgrid_x\u001b[0m\u001b[1;33m,\u001b[0m \u001b[0mgrid_y\u001b[0m\u001b[1;33m)\u001b[0m\u001b[1;33m\u001b[0m\u001b[0m\n\u001b[0;32m      9\u001b[0m \u001b[1;31m#print(grid_z)\u001b[0m\u001b[1;33m\u001b[0m\u001b[1;33m\u001b[0m\u001b[0m\n",
      "\u001b[1;31mNameError\u001b[0m: name 'np' is not defined"
     ]
    }
   ],
   "source": [
    "#mulvaiante example, griddata\n",
    "\n",
    "from scipy.interpolate import griddata\n",
    "\n",
    "ripple = lambda x,y: np.sqrt(x**2 + y**2) + np.sin(x**2 + y**2)\n",
    "\n",
    "grid_x, grid_y = np.mgrid[0:5:1000j, 0:5:1000j]\n",
    "grid_z = ripple(grid_x, grid_y)\n",
    "#print(grid_z)\n",
    "xy = np.random.rand(1000, 2)\n",
    "sample = ripple(xy[:,0]*5, xy[:,1]*5)\n",
    "\n",
    "grid_z0 = griddata(xy*5, sample, (grid_x, grid_y), method='cubic')\n",
    "sp1 = plt.subplot(121)\n",
    "sp1.scatter(xy[:,0]*1000, xy[:,1]*1000, s=1, c='r')\n",
    "sp1.imshow(grid_z)\n",
    "sp1.axis('off')\n",
    "sp2 = plt.subplot(122)\n",
    "sp2.imshow(grid_z0) \n",
    "sp2.axis('off')"
   ]
  },
  {
   "cell_type": "code",
   "execution_count": 14,
   "metadata": {},
   "outputs": [
    {
     "ename": "NameError",
     "evalue": "name 'np' is not defined",
     "output_type": "error",
     "traceback": [
      "\u001b[1;31m---------------------------------------------------------------------------\u001b[0m",
      "\u001b[1;31mNameError\u001b[0m                                 Traceback (most recent call last)",
      "\u001b[1;32m<ipython-input-14-31c3cab17779>\u001b[0m in \u001b[0;36m<module>\u001b[1;34m()\u001b[0m\n\u001b[0;32m      4\u001b[0m \u001b[1;33m\u001b[0m\u001b[0m\n\u001b[0;32m      5\u001b[0m \u001b[0mripple\u001b[0m \u001b[1;33m=\u001b[0m \u001b[1;32mlambda\u001b[0m \u001b[0mx\u001b[0m\u001b[1;33m,\u001b[0m\u001b[0my\u001b[0m\u001b[1;33m:\u001b[0m \u001b[0mnp\u001b[0m\u001b[1;33m.\u001b[0m\u001b[0msqrt\u001b[0m\u001b[1;33m(\u001b[0m\u001b[0mx\u001b[0m\u001b[1;33m**\u001b[0m\u001b[1;36m2\u001b[0m \u001b[1;33m+\u001b[0m \u001b[0my\u001b[0m\u001b[1;33m**\u001b[0m\u001b[1;36m2\u001b[0m\u001b[1;33m)\u001b[0m \u001b[1;33m+\u001b[0m \u001b[0mnp\u001b[0m\u001b[1;33m.\u001b[0m\u001b[0msin\u001b[0m\u001b[1;33m(\u001b[0m\u001b[0mx\u001b[0m\u001b[1;33m**\u001b[0m\u001b[1;36m2\u001b[0m \u001b[1;33m+\u001b[0m \u001b[0my\u001b[0m\u001b[1;33m**\u001b[0m\u001b[1;36m2\u001b[0m\u001b[1;33m)\u001b[0m\u001b[1;33m\u001b[0m\u001b[0m\n\u001b[1;32m----> 6\u001b[1;33m \u001b[0mgrid_x\u001b[0m\u001b[1;33m,\u001b[0m \u001b[0mgrid_y\u001b[0m \u001b[1;33m=\u001b[0m \u001b[0mnp\u001b[0m\u001b[1;33m.\u001b[0m\u001b[0mmgrid\u001b[0m\u001b[1;33m[\u001b[0m\u001b[1;36m0\u001b[0m\u001b[1;33m:\u001b[0m\u001b[1;36m5\u001b[0m\u001b[1;33m:\u001b[0m\u001b[1;36m1000j\u001b[0m\u001b[1;33m,\u001b[0m \u001b[1;36m0\u001b[0m\u001b[1;33m:\u001b[0m\u001b[1;36m5\u001b[0m\u001b[1;33m:\u001b[0m\u001b[1;36m1000j\u001b[0m\u001b[1;33m]\u001b[0m\u001b[1;33m\u001b[0m\u001b[0m\n\u001b[0m\u001b[0;32m      7\u001b[0m \u001b[0mgrid_z\u001b[0m \u001b[1;33m=\u001b[0m \u001b[0mripple\u001b[0m\u001b[1;33m(\u001b[0m\u001b[0mgrid_x\u001b[0m\u001b[1;33m,\u001b[0m \u001b[0mgrid_y\u001b[0m\u001b[1;33m)\u001b[0m\u001b[1;33m\u001b[0m\u001b[0m\n\u001b[0;32m      8\u001b[0m \u001b[1;33m\u001b[0m\u001b[0m\n",
      "\u001b[1;31mNameError\u001b[0m: name 'np' is not defined"
     ]
    }
   ],
   "source": [
    "#SmoothBivariateSpline multivariate spline interpolation\n",
    "\n",
    "from scipy.interpolate import SmoothBivariateSpline as SBS\n",
    "\n",
    "ripple = lambda x,y: np.sqrt(x**2 + y**2) + np.sin(x**2 + y**2)\n",
    "grid_x, grid_y = np.mgrid[0:5:1000j, 0:5:1000j]\n",
    "grid_z = ripple(grid_x, grid_y)\n",
    "\n",
    "xy = np.random.rand(1000, 2)\n",
    "x = xy[:,0]\n",
    "y = xy[:,1]\n",
    "sample = ripple(x*5, y*5)\n",
    "print(grid_x.shape, grid_y.shape)\n",
    "print(x.shape, y.shape)\n",
    "\n",
    "fit = SBS(x*5, y*5, sample, s=0.01, kx=4, ky=4)\n",
    "\n",
    "interp = fit(np.linspace(0,5,1000), np.linspace(0,5,1000))\n",
    "print(interp.shape)\n",
    "sp1 = plt.subplot(121)\n",
    "sp1.scatter(x*1000, y*1000, s=1, c='r')\n",
    "sp1.imshow(grid_z)\n",
    "sp1.axis('off')\n",
    "sp2 = plt.subplot(122)\n",
    "sp2.imshow(interp*1000) \n",
    "\n",
    "sp2.axis('off')\n",
    "print(interp)"
   ]
  },
  {
   "cell_type": "code",
   "execution_count": null,
   "metadata": {},
   "outputs": [],
   "source": []
  },
  {
   "cell_type": "code",
   "execution_count": 79,
   "metadata": {},
   "outputs": [
    {
     "name": "stdout",
     "output_type": "stream",
     "text": [
      "(1.296467785724373, 1.397797133112089e-09)\n"
     ]
    }
   ],
   "source": [
    "#integration\n",
    "from scipy.integrate import quad\n",
    "func = lambda x: np.cos(np.exp(x)) ** 2\n",
    "solution = quad(func, 0, 3)\n",
    "print(solution)"
   ]
  },
  {
   "cell_type": "code",
   "execution_count": 15,
   "metadata": {},
   "outputs": [
    {
     "ename": "NameError",
     "evalue": "name 'np' is not defined",
     "output_type": "error",
     "traceback": [
      "\u001b[1;31m---------------------------------------------------------------------------\u001b[0m",
      "\u001b[1;31mNameError\u001b[0m                                 Traceback (most recent call last)",
      "\u001b[1;32m<ipython-input-15-cd64b43e2488>\u001b[0m in \u001b[0;36m<module>\u001b[1;34m()\u001b[0m\n\u001b[1;32m----> 1\u001b[1;33m \u001b[0mx\u001b[0m \u001b[1;33m=\u001b[0m \u001b[0mnp\u001b[0m\u001b[1;33m.\u001b[0m\u001b[0mlinspace\u001b[0m\u001b[1;33m(\u001b[0m\u001b[1;36m0\u001b[0m\u001b[1;33m,\u001b[0m\u001b[1;36m4\u001b[0m\u001b[1;33m,\u001b[0m\u001b[1;36m100\u001b[0m\u001b[1;33m)\u001b[0m\u001b[1;33m\u001b[0m\u001b[0m\n\u001b[0m\u001b[0;32m      2\u001b[0m \u001b[0my\u001b[0m \u001b[1;33m=\u001b[0m \u001b[0mfunc\u001b[0m\u001b[1;33m(\u001b[0m\u001b[0mx\u001b[0m\u001b[1;33m)\u001b[0m\u001b[1;33m\u001b[0m\u001b[0m\n\u001b[0;32m      3\u001b[0m \u001b[0mx0\u001b[0m \u001b[1;33m=\u001b[0m \u001b[0mx\u001b[0m\u001b[1;33m[\u001b[0m\u001b[0mx\u001b[0m \u001b[1;33m<\u001b[0m \u001b[1;36m3\u001b[0m\u001b[1;33m]\u001b[0m\u001b[1;33m\u001b[0m\u001b[0m\n\u001b[0;32m      4\u001b[0m \u001b[0my1\u001b[0m \u001b[1;33m=\u001b[0m \u001b[0mfunc\u001b[0m\u001b[1;33m(\u001b[0m\u001b[0mx0\u001b[0m\u001b[1;33m)\u001b[0m\u001b[1;33m\u001b[0m\u001b[0m\n\u001b[0;32m      5\u001b[0m \u001b[1;31m#print(x0)\u001b[0m\u001b[1;33m\u001b[0m\u001b[1;33m\u001b[0m\u001b[0m\n",
      "\u001b[1;31mNameError\u001b[0m: name 'np' is not defined"
     ]
    }
   ],
   "source": [
    "x = np.linspace(0,4,100)\n",
    "y = func(x)\n",
    "x0 = x[x < 3]\n",
    "y1 = func(x0)\n",
    "#print(x0)\n",
    "y0 = [0]*len(x0)\n",
    "plt.plot(x,y)\n",
    "plt.plot(x0,y0)\n",
    "plt.stackplot(x0, y1, y0)"
   ]
  },
  {
   "cell_type": "code",
   "execution_count": 4,
   "metadata": {},
   "outputs": [],
   "source": [
    "#help(np.clip)"
   ]
  },
  {
   "cell_type": "code",
   "execution_count": 94,
   "metadata": {},
   "outputs": [],
   "source": [
    "#trapz is a numerical integrator that utilizes data points\n",
    "\n",
    "from scipy.integrate import quad, trapz\n",
    "x = np.sort(np.random.randn(150)*4 + 4).clip(0,5)\n",
    "func = lambda x: np.sin(x) * np.cos(x**2) + 1\n",
    "y = func(x)\n",
    "\n",
    "fsolution = quad(func, 0, 5)\n",
    "dsolution = trapz(y, x=x)"
   ]
  },
  {
   "cell_type": "code",
   "execution_count": 3,
   "metadata": {},
   "outputs": [],
   "source": [
    "#help(trapz)"
   ]
  },
  {
   "cell_type": "code",
   "execution_count": 97,
   "metadata": {},
   "outputs": [],
   "source": [
    "#stats\n",
    "\n",
    "from scipy.stats import norm\n",
    "from scipy.stats import geom\n",
    "x = np.linspace(-5, 5, 1000)\n",
    "\n",
    "#norm distribution\n",
    "dist = norm(loc=0, scale=1) # loc is the mean and scale is the standard deviation\n",
    "#PPF, percent point functions\n",
    "pdf = dist.pdf(x) # probability density functions\n",
    "cdf = dist.cdf(x) # cumulative distribution functions\n",
    "sample = dist.rvs(500) #random variable samples\n",
    "\n",
    "#geometric distribution\n",
    "p = 0.5\n",
    "dist = geom(p)\n",
    "x = np.linspace(0, 5, 1000)\n",
    "\n",
    "pmf = dist.pmf(x) #probability mass function\n",
    "cdf = dist.cdf(x)\n",
    "sample = dist.rvs(500)\n"
   ]
  },
  {
   "cell_type": "code",
   "execution_count": 98,
   "metadata": {},
   "outputs": [
    {
     "name": "stdout",
     "output_type": "stream",
     "text": [
      "normaltest output\n",
      "Z-score = 0.5045868444298025\n",
      "P-value = 0.7770167106521725\n"
     ]
    }
   ],
   "source": [
    "from scipy import stats\n",
    "\n",
    "sample = np.random.randn(100)\n",
    "out = stats.normaltest(sample)\n",
    "\n",
    "print('normaltest output')\n",
    "print('Z-score = ' + str(out[0]))\n",
    "print('P-value = ' + str(out[1]))"
   ]
  },
  {
   "cell_type": "code",
   "execution_count": 99,
   "metadata": {},
   "outputs": [
    {
     "name": "stdout",
     "output_type": "stream",
     "text": [
      "\n",
      "kstest output for the Normal distribution\n",
      "D = 0.04816353961613451\n",
      "P-value =0.9744928178598288\n"
     ]
    }
   ],
   "source": [
    "# kstest is the Kolmogorov-Smirnov test for goodness of fit.\n",
    "# Here its sample is being tested against the normal distribution.\n",
    "# D is the KS statistic and the closer it is to 0 the better.\n",
    "\n",
    "out = stats.kstest(sample, 'norm')\n",
    "print('\\nkstest output for the Normal distribution')\n",
    "print('D = ' + str(out[0]))\n",
    "print('P-value =' + str(out[1]))"
   ]
  },
  {
   "cell_type": "code",
   "execution_count": 100,
   "metadata": {},
   "outputs": [
    {
     "name": "stdout",
     "output_type": "stream",
     "text": [
      "\n",
      "kstest output for the Wald distribution\n",
      "D = 0.5526272001737877\n",
      "P-value = 0.0\n"
     ]
    }
   ],
   "source": [
    "out = stats.kstest(sample, 'wald')\n",
    "print('\\nkstest output for the Wald distribution')\n",
    "print('D = ' + str(out[0]))\n",
    "print('P-value = ' + str(out[1]))"
   ]
  },
  {
   "cell_type": "code",
   "execution_count": 101,
   "metadata": {},
   "outputs": [
    {
     "name": "stdout",
     "output_type": "stream",
     "text": [
      "Harmonic mean = 0.14833186538928048\n",
      "\n",
      "Trimmed mean = -0.09521034533859499\n",
      "\n",
      "Skewness = 0.142211880403775\n",
      "\n",
      "Size = 100\n",
      "Min = -3.0097629742774954\n",
      "Max = 2.702693736944139\n",
      "Mean = -0.06841685293336387\n",
      "Variance = 0.8877071111451245\n",
      "Skewness = 0.142211880403775\n",
      "Kurtosis = 0.5099426878247986\n"
     ]
    }
   ],
   "source": [
    "# Generating a normal distribution sample\n",
    "# with 100 elements\n",
    "sample = np.random.randn(100)\n",
    "# The harmonic mean: Sample values have to\n",
    "# be greater than 0.\n",
    "out = stats.hmean(sample[sample > 0])\n",
    "print('Harmonic mean = ' + str(out))\n",
    "# The mean, where values below -1 and above 1 are\n",
    "# removed for the mean calculation\n",
    "out = stats.tmean(sample, limits=(-1, 1))\n",
    "print('\\nTrimmed mean = ' + str(out))\n",
    "\n",
    "# Calculating the skewness of the sample\n",
    "out = stats.skew(sample)\n",
    "print('\\nSkewness = ' + str(out))\n",
    "# Additionally, there is a handy summary function called\n",
    "# describe, which gives a quick look at the data.\n",
    "out = stats.describe(sample)\n",
    "print('\\nSize = ' + str(out[0]))\n",
    "print('Min = ' + str(out[1][0]))\n",
    "print('Max = ' + str(out[1][1]))\n",
    "print('Mean = ' + str(out[2]))\n",
    "print('Variance = ' + str(out[3]))\n",
    "print('Skewness = ' + str(out[4]))\n",
    "print('Kurtosis = ' + str(out[5]))"
   ]
  },
  {
   "cell_type": "code",
   "execution_count": 14,
   "metadata": {},
   "outputs": [],
   "source": [
    "#fft\n",
    "import numpy as np\n",
    "from scipy.fftpack import fft, ifft\n",
    "import matplotlib.pyplot as plt"
   ]
  },
  {
   "cell_type": "code",
   "execution_count": 20,
   "metadata": {},
   "outputs": [
    {
     "data": {
      "text/plain": [
       "array([ 6.5 +0.j       ,  2.75+0.4330127j, -3.25-0.4330127j,\n",
       "        0.5 +0.j       , -3.25+0.4330127j,  2.75-0.4330127j])"
      ]
     },
     "execution_count": 20,
     "metadata": {},
     "output_type": "execute_result"
    }
   ],
   "source": [
    "x = np.array([1.0, 2.0, 1.0, -1.0, 1.5, 2.0])\n",
    "y = fft(x)\n",
    "y"
   ]
  },
  {
   "cell_type": "code",
   "execution_count": 5,
   "metadata": {},
   "outputs": [
    {
     "data": {
      "text/plain": [
       "array([ 1. +0.j,  2. +0.j,  1. +0.j, -1. +0.j,  1.5+0.j])"
      ]
     },
     "execution_count": 5,
     "metadata": {},
     "output_type": "execute_result"
    }
   ],
   "source": [
    "ix = ifft(y)\n",
    "ix"
   ]
  },
  {
   "cell_type": "code",
   "execution_count": 27,
   "metadata": {},
   "outputs": [
    {
     "data": {
      "image/png": "[encoded data removed]",
      "text/plain": [
       "<Figure size 432x288 with 4 Axes>"
      ]
     },
     "metadata": {
      "needs_background": "light"
     },
     "output_type": "display_data"
    }
   ],
   "source": [
    "\n",
    "# Number of sample points\n",
    "N = 600\n",
    "# sample spacing\n",
    "T = 1.0 / 800.0\n",
    "x = np.linspace(0.0, N*T, N)\n",
    "\n",
    "y1 = np.sin(50.0 * 2.0*np.pi*x)\n",
    "y2 = 0.5*np.sin(80.0 * 2.0*np.pi*x)\n",
    "\n",
    "y = np.sin(50.0 * 2.0*np.pi*x) + 0.5*np.sin(100.0 * 2.0*np.pi*x)\n",
    "yf = fft(y)\n",
    "xf = np.linspace(0.0, 1.0/(2.0*T), N//2)\n",
    "\n",
    "plt.subplot(4,1,1)\n",
    "plt.plot(x, y1)\n",
    "plt.subplot(4,1,2)\n",
    "plt.plot(x, y2)\n",
    "plt.subplot(4,1,3)\n",
    "plt.plot(x, y)\n",
    "\n",
    "plt.subplot(4,1,4)\n",
    "plt.plot(xf,  np.abs(yf[1:N//2+1]))\n",
    "plt.grid()\n",
    "plt.show()"
   ]
  },
  {
   "cell_type": "code",
   "execution_count": 16,
   "metadata": {},
   "outputs": [
    {
     "name": "stdout",
     "output_type": "stream",
     "text": [
      "[ 0.          0.68279909  1.19014529  1.40086834  1.28340406  0.90024449\n",
      "  0.38099952 -0.12503486 -0.49880186 -0.68573542 -0.70287975 -0.61829882\n",
      " -0.51296156 -0.44174939 -0.4099303  -0.37459598 -0.26996058 -0.04533461\n",
      "  0.30093358  0.70697275  1.060151    1.23387495  1.13519149  0.74491726\n",
      "  0.13405722 -0.55127177 -1.13249355 -1.45440369 -1.43456515 -1.08874683\n",
      " -0.52353336  0.10082204  0.62351169  0.9330127   0.99622711  0.85779344\n",
      "  0.61194665  0.35955603  0.16804521  0.04992771 -0.0324274  -0.13915224\n",
      " -0.31514228 -0.55914486 -0.81379768 -0.98211981 -0.96494078 -0.70474373\n",
      " -0.21803673  0.39790334  0.98858658  1.38921667  1.47873951  1.2215575\n",
      "  0.6815071   0.00263811 -0.63659546 -1.07949058 -1.23779866 -1.11301288\n",
      " -0.78598034 -0.38040754 -0.01525     0.23555995  0.36130325  0.40514442\n",
      "  0.4330127   0.49503558  0.5965463   0.69142747  0.70109419  0.55156488\n",
      "  0.21317816 -0.27420558 -0.80245267 -1.22458518 -1.40289913 -1.25844832\n",
      " -0.80326603 -0.14254618  0.55513181  1.10967673  1.385395    1.33137118\n",
      "  0.99252884  0.48842575 -0.03138223 -0.43832387 -0.66341395 -0.71022137\n",
      " -0.63931159 -0.53242261 -0.45222678 -0.41465454 -0.38506657 -0.2993959\n",
      " -0.10083795  0.22402377  0.62590033  1.        ]\n"
     ]
    }
   ],
   "source": [
    "print(y)"
   ]
  },
  {
   "cell_type": "code",
   "execution_count": 19,
   "metadata": {},
   "outputs": [
    {
     "name": "stdout",
     "output_type": "stream",
     "text": [
      "[  2.98787181+0.00000000e+00j   3.07932832-4.30954781e-01j\n",
      "   3.3839872 -9.27991066e-01j   4.02204509-1.59878313e+00j\n",
      "   5.36033789-2.70663672e+00j   8.91900758-5.27936618e+00j\n",
      "  35.70392904-2.33116415e+01j -15.59876902+1.05691842e+01j\n",
      "  -6.01887728+3.81962735e+00j  -3.30261142+1.13351438e+00j\n",
      "   4.73152773-2.08619993e+01j  -3.20357272+4.65440626e+00j\n",
      "  -2.37251232+2.96230814e+00j  -1.97463685+2.30872809e+00j\n",
      "  -1.72126467+1.92757204e+00j  -1.54256643+1.66655221e+00j\n",
      "  -1.4093749 +1.47187610e+00j  -1.30643969+1.31873235e+00j\n",
      "  -1.22476634+1.19374758e+00j  -1.15863297+1.08893914e+00j\n",
      "  -1.10420226+9.99186258e-01j  -1.05879704+9.21023067e-01j\n",
      "  -1.02049072+8.52004100e-01j  -0.98786139+7.90345452e-01j\n",
      "  -0.95983739+7.34709742e-01j  -0.93559637+6.84071100e-01j\n",
      "  -0.9144976 +6.37627082e-01j  -0.89603501+5.94739297e-01j\n",
      "  -0.87980421+5.54892274e-01j  -0.86547863+5.17664272e-01j\n",
      "  -0.8527921 +4.82706126e-01j  -0.84152586+4.49725639e-01j\n",
      "  -0.83149881+4.18475856e-01j  -0.82256003+3.88746146e-01j\n",
      "  -0.81458305+3.60355307e-01j  -0.80746134+3.33146180e-01j\n",
      "  -0.80110481+3.06981391e-01j  -0.79543699+2.81739945e-01j\n",
      "  -0.79039283+2.57314479e-01j  -0.78591689+2.33609022e-01j\n",
      "  -0.78196189+2.10537146e-01j  -0.77848759+1.88020437e-01j\n",
      "  -0.77545976+1.65987202e-01j  -0.77284946+1.44371385e-01j\n",
      "  -0.7706324 +1.23111626e-01j  -0.76878842+1.02150452e-01j\n",
      "  -0.76730107+8.14335630e-02j  -0.76615732+6.09091996e-02j\n",
      "  -0.76534726+4.05275670e-02j  -0.76486397+2.02403066e-02j\n",
      "  -0.76470333+0.00000000e+00j  -0.76486397-2.02403066e-02j\n",
      "  -0.76534726-4.05275670e-02j  -0.76615732-6.09091996e-02j\n",
      "  -0.76730107-8.14335630e-02j  -0.76878842-1.02150452e-01j\n",
      "  -0.7706324 -1.23111626e-01j  -0.77284946-1.44371385e-01j\n",
      "  -0.77545976-1.65987202e-01j  -0.77848759-1.88020437e-01j\n",
      "  -0.78196189-2.10537146e-01j  -0.78591689-2.33609022e-01j\n",
      "  -0.79039283-2.57314479e-01j  -0.79543699-2.81739945e-01j\n",
      "  -0.80110481-3.06981391e-01j  -0.80746134-3.33146180e-01j\n",
      "  -0.81458305-3.60355307e-01j  -0.82256003-3.88746146e-01j\n",
      "  -0.83149881-4.18475856e-01j  -0.84152586-4.49725639e-01j\n",
      "  -0.8527921 -4.82706126e-01j  -0.86547863-5.17664272e-01j\n",
      "  -0.87980421-5.54892274e-01j  -0.89603501-5.94739297e-01j\n",
      "  -0.9144976 -6.37627082e-01j  -0.93559637-6.84071100e-01j\n",
      "  -0.95983739-7.34709742e-01j  -0.98786139-7.90345452e-01j\n",
      "  -1.02049072-8.52004100e-01j  -1.05879704-9.21023067e-01j\n",
      "  -1.10420226-9.99186258e-01j  -1.15863297-1.08893914e+00j\n",
      "  -1.22476634-1.19374758e+00j  -1.30643969-1.31873235e+00j\n",
      "  -1.4093749 -1.47187610e+00j  -1.54256643-1.66655221e+00j\n",
      "  -1.72126467-1.92757204e+00j  -1.97463685-2.30872809e+00j\n",
      "  -2.37251232-2.96230814e+00j  -3.20357272-4.65440626e+00j\n",
      "   4.73152773+2.08619993e+01j  -3.30261142-1.13351438e+00j\n",
      "  -6.01887728-3.81962735e+00j -15.59876902-1.05691842e+01j\n",
      "  35.70392904+2.33116415e+01j   8.91900758+5.27936618e+00j\n",
      "   5.36033789+2.70663672e+00j   4.02204509+1.59878313e+00j\n",
      "   3.3839872 +9.27991066e-01j   3.07932832+4.30954781e-01j]\n"
     ]
    }
   ],
   "source": [
    "print(yf)"
   ]
  },
  {
   "cell_type": "code",
   "execution_count": null,
   "metadata": {},
   "outputs": [],
   "source": []
  }
 ],
 "metadata": {
  "kernelspec": {
   "display_name": "Python 3",
   "language": "python",
   "name": "python3"
  },
  "language_info": {
   "codemirror_mode": {
    "name": "ipython",
    "version": 3
   },
   "file_extension": ".py",
   "mimetype": "text/x-python",
   "name": "python",
   "nbconvert_exporter": "python",
   "pygments_lexer": "ipython3",
   "version": "3.7.0"
  }
 },
 "nbformat": 4,
 "nbformat_minor": 2
}
