{
 "cells": [
  {
   "cell_type": "markdown",
   "metadata": {},
   "source": [
    "<p>倒谱（cepstrum）就是一种信号的傅里叶变换经对数运算后再进行傅里叶反变换得到的谱\n",
    "\n",
    "梅尔倒谱系数是在<font color=red>Mel标度频率域</font>提取出来的倒谱参数，Mel标度描述了人耳频率的非线性特性，它与频率的关系可用下式近似表示:\n",
    "<p>Mel(f)=2595*lg(1+f/700)，式中f为频率，单位为Hz\n",
    "    \n",
    "<p>人类对不同频率语音有不同的感知能力：对1kHz以下，与频率成线性关系，对1kHz以上，与频率成对数关系。频率越高，感知能力就越差了。因此，在应用中常常只使用低频MFCC，而丢弃中高频MFCC。\n",
    "\n",
    "<p> http://www.speech.cs.cmu.edu/15-492/slides/03_mfcc.pdf  解释了什么是倒谱以及MFCC\n",
    "  "
   ]
  },
  {
   "cell_type": "code",
   "execution_count": null,
   "metadata": {},
   "outputs": [],
   "source": [
    "import matplotlib.pyplot as plt\n",
    "import numpy as np\n",
    "\n",
    "fs = np.linspace(0, 8000, 8000)\n",
    "mel_fs = 2595 * np.log(1 + fs/700.0)\n",
    "\n",
    "plt.xlabel('Frequency(Hz)')\n",
    "plt.ylabel('Mel Frequency(Hz)')\n",
    "plt.plot(fs, mel_fs)"
   ]
  },
  {
   "cell_type": "code",
   "execution_count": null,
   "metadata": {},
   "outputs": [],
   "source": []
  },
  {
   "cell_type": "code",
   "execution_count": null,
   "metadata": {},
   "outputs": [],
   "source": []
  }
 ],
 "metadata": {
  "kernelspec": {
   "display_name": "python35",
   "language": "python",
   "name": "python35"
  },
  "language_info": {
   "codemirror_mode": {
    "name": "ipython",
    "version": 3
   },
   "file_extension": ".py",
   "mimetype": "text/x-python",
   "name": "python",
   "nbconvert_exporter": "python",
   "pygments_lexer": "ipython3",
   "version": "3.5.6"
  }
 },
 "nbformat": 4,
 "nbformat_minor": 2
}
