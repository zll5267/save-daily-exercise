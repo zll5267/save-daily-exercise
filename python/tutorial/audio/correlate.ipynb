{
 "cells": [
  {
   "cell_type": "markdown",
   "metadata": {},
   "source": [
    "皮尔森相关系数（Pearson product-moment correlation coefficient）\n",
    "$$\\rho = \\frac{\\sum_{i=0}^{N-1} {(x_i - \\mu_x)(y_i - \\mu_y)}} {{N \\sigma_x \\sigma_y}}$$\n",
    "$X$,$Y$是有$N$个测量值的向量，上式中的 $\\mu_x$ 和 $\\mu_y$ 是 $X$ 和 $Y$ 的均值， $\\sigma_x$ 和 $\\sigma_y$ 是它们的标准差。\n",
    "$\\rho$ 取值范围[-1,1] \n",
    "\n",
    "通常处理的信号为无偏（均值为0）归一化（标准差为1）的信号，所以：\n",
    "$$\\rho = \\frac {1} {N} {\\sum_{i=0}^{N-1} x_i y_i} $$\n",
    "进一步：\n",
    "$$r = {\\sum_{i=0}^{N-1} x_i y_i} $$\n",
    "\n",
    "如果把 $X$ 和 $Y$ 看做是向量，那么这个公式就是 点积（dot product） 的公式, 点积表征了信号之间的相似度\n",
    "如果$X$ 和 $Y$ 都是归一化的：\n",
    "$$X * Y = cos\\theta$$"
   ]
  },
  {
   "cell_type": "code",
   "execution_count": null,
   "metadata": {},
   "outputs": [],
   "source": [
    "import thinkdsp\n",
    "import thinkplot\n",
    "import numpy as np\n",
    "\n",
    "def make_sine(offset):\n",
    "    signal = thinkdsp.SinSignal(freq=440, offset=offset)\n",
    "    wave = signal.make_wave(duration=0.5, framerate=10000)\n",
    "    return wave\n",
    "\n",
    "wave1 = make_sine(offset = 0)\n",
    "#wave2 = make_sine(offset = 2 * np.pi) # max correlation\n",
    "#wave2 = make_sine(offset = np.pi) # negtive max correlation\n",
    "#wave2 = make_sine(offset = np.pi / 2) # min correlation\n",
    "wave2 = make_sine(offset = 1) # offset = 1\n",
    "\n",
    "wave1.plot(label=\"wave1\")\n",
    "wave2.plot(label=\"wave2\")\n",
    "\n",
    "thinkplot.config(xlabel='Time (s)',\n",
    "                 ylabel='Amplitude',\n",
    "                 xlim=[0, 0.01])\n",
    "\n",
    "import numpy as np\n",
    "corr_matrix = np.corrcoef(wave1.ys, wave2.ys)\n",
    "print(corr_matrix)\n",
    "print(wave1.corr(wave2))"
   ]
  },
  {
   "cell_type": "code",
   "execution_count": null,
   "metadata": {},
   "outputs": [],
   "source": [
    "import matplotlib.pyplot as plt\n",
    "\n",
    "#两个波形随着offset的不同，相关性发生的变化\n",
    "\n",
    "wave_offsets = np.linspace(0, 2 * np.pi, 100)\n",
    "corr_values = []\n",
    "for i in range(len(wave_offsets)):\n",
    "    wavei = make_sine(offset = wave_offsets[i])\n",
    "    corr_values.append(wave1.corr(wavei))\n",
    "    \n",
    "plt.xlabel(\"offset\") \n",
    "plt.ylabel(\"corrlation\")\n",
    "plt.plot(wave_offsets, corr_values)"
   ]
  },
  {
   "cell_type": "code",
   "execution_count": null,
   "metadata": {},
   "outputs": [],
   "source": [
    "#序列相关性\n",
    "def serial_corr(wave, lag=1):\n",
    "    n = len(wave)\n",
    "    y1 = wave.ys[lag:]\n",
    "    y2 = wave.ys[:n-lag]\n",
    "    corr = np.corrcoef(y1, y2)[0, 1]\n",
    "    return corr\n",
    "\n",
    "#  T/2  lag = T/2 * framerate = 1/2f * frametate 10000/2*440 = 11.363636363636363\n",
    "print(serial_corr(wave1, lag=0)) # 自相关\n",
    "print(serial_corr(wave1, lag=6)) # T/4 自相关性最小\n",
    "print(serial_corr(wave1, lag=11)) \n",
    "print(serial_corr(wave1, lag=23))"
   ]
  },
  {
   "cell_type": "code",
   "execution_count": null,
   "metadata": {},
   "outputs": [],
   "source": [
    "#自相关 求基频\n",
    "import os\n",
    "import sys\n",
    "import thinkdsp\n",
    "\n",
    "#print(sys.path)\n",
    "#print(dir(thinkdsp))\n",
    "\n",
    "thinkdsp_dir = \".\"\n",
    "if thinkdsp.__file__:\n",
    "    thinkdsp_dir = os.path.dirname(thinkdsp.__file__)\n",
    "\n",
    "wave = thinkdsp.read_wave(thinkdsp_dir + '/28042__bcjordan__voicedownbew.wav')\n",
    "wave.normalize()\n",
    "wave.make_audio()"
   ]
  },
  {
   "cell_type": "code",
   "execution_count": null,
   "metadata": {},
   "outputs": [],
   "source": [
    "#时域\n",
    "wave.plot()"
   ]
  },
  {
   "cell_type": "code",
   "execution_count": null,
   "metadata": {},
   "outputs": [],
   "source": [
    "#频域\n",
    "import thinkplot\n",
    "thinkplot.config(ylabel='Amp',\n",
    "                 xlabel='Frequency (Hz)',\n",
    "                 xlim=[0, 10000])\n",
    "\n",
    "spectrum = wave.make_spectrum()\n",
    "spectrum.plot()\n",
    "#整个片段找不到明显的规律"
   ]
  },
  {
   "cell_type": "code",
   "execution_count": null,
   "metadata": {},
   "outputs": [],
   "source": [
    "#整个片段的声谱图\n",
    "import thinkplot\n",
    "thinkplot.config(ylabel='Frequency(Hz)',\n",
    "                 xlabel='Time (s)')\n",
    "sg = wave.make_spectrogram(seg_length = int(0.01 * wave.framerate))\n",
    "sg.plot()"
   ]
  },
  {
   "cell_type": "code",
   "execution_count": null,
   "metadata": {},
   "outputs": [],
   "source": [
    "#较长的分段来提高频率的分辨率，但是音高随时间的变化就会变得模糊, 因为峰值(音高)会分布在这段波形的开始和结束的音高上\n",
    "\n",
    "import thinkplot\n",
    "thinkplot.config(xlabel='Time (s)',\n",
    "                 ylabel='Frequency (Hz)',\n",
    "                 ylim=[0, 5000]) #[200, 600]\n",
    "spectrum = wave.make_spectrogram(int(0.01 * wave.framerate)) #较长的分段来提高频率的分辨率 0.01->100Hz(1/0.01)\n",
    "spectrum.plot()"
   ]
  },
  {
   "cell_type": "code",
   "execution_count": null,
   "metadata": {},
   "outputs": [],
   "source": [
    "thinkplot.config(xlabel='Time (s)',\n",
    "                 ylabel='Frequency (Hz)',\n",
    "                 ylim=[200, 600]) #\n",
    "spectrum = wave.make_spectrogram(int(0.04 * wave.framerate)) #较长的分段来提高频率的分辨率 0.04->25Hz(1/0.01)\n",
    "spectrum.plot()\n",
    "# 在0.2s出基频大约在 425-450之间"
   ]
  },
  {
   "cell_type": "code",
   "execution_count": null,
   "metadata": {},
   "outputs": [],
   "source": [
    "#通过相关系数验证基频\n",
    "duration = 0.01\n",
    "segment2 = wave.segment(start = 0.2023, duration = duration) #\n",
    "\n",
    "print(np.corrcoef(segment.ys, segment2.ys))\n",
    "print(segment.corr(segment2))\n",
    "#周期 应该为 0.0023 -> 435Hz"
   ]
  },
  {
   "cell_type": "code",
   "execution_count": null,
   "metadata": {},
   "outputs": [],
   "source": [
    "duration = 0.01\n",
    "segment = wave.segment(start = 0.2, duration = duration)\n",
    "thinkplot.config(ylabel='Amp',\n",
    "                 xlabel='Frequency (Hz)',\n",
    "                 xlim=[0, 5000])\n",
    "\n",
    "spectrum = segment.make_spectrum()\n",
    "print(spectrum.amps.argmax() * segment.framerate / len(segment.ys))\n",
    "spectrum.plot()"
   ]
  },
  {
   "cell_type": "code",
   "execution_count": null,
   "metadata": {},
   "outputs": [],
   "source": [
    "#细化上图信息，得到基频时400Hz, 与真实值有【0-50HZ】误差\n",
    "duration = 0.01\n",
    "segment = wave.segment(start = 0.2, duration = duration)\n",
    "spectrum = segment.make_spectrum()\n",
    "thinkplot.config(ylabel='Amp',\n",
    "                 xlabel='Frequency (Hz)',\n",
    "                 xlim=[0, 1000])\n",
    "spectrum.plot()"
   ]
  },
  {
   "cell_type": "code",
   "execution_count": null,
   "metadata": {},
   "outputs": [],
   "source": [
    "#通过相关计算基频\n",
    "\n",
    "def serial_corr(wave, lag=1):\n",
    "    n = len(wave)\n",
    "    y1 = wave.ys[lag:]\n",
    "    y2 = wave.ys[:n-lag]\n",
    "    corr = np.corrcoef(y1, y2)[0, 1]\n",
    "    return corr\n",
    "\n",
    "def autocorr(wave):\n",
    "    lags = range(len(wave.ys)//2)\n",
    "    corrs = [serial_corr(wave, lag) for lag in lags]\n",
    "    return lags, corrs\n",
    "\n",
    "segment = wave.segment(start = 0.2, duration = duration)\n",
    "lags, corrs = autocorr(segment)\n",
    "thinkplot.plot(lags, corrs)\n",
    "\n",
    "# 在偏移多少时，相关性最大，即正好为整数倍的周期\n",
    "# 假设偏移N时，则 N/framerate = T, f = 1/T = framerate/N\n",
    "off = 50 + np.argmax(corrs[50:150])\n",
    "print(off) \n",
    "print(\"pitch:\", segment.framerate/off) #周期跨越了101个采样数据点 T = 101 * (1/framerate) ->  f = 1/T = framerate/101"
   ]
  },
  {
   "cell_type": "code",
   "execution_count": null,
   "metadata": {},
   "outputs": [],
   "source": [
    "#numpy 提供的相关系数计算\n",
    "corr2 = np.correlate(segment.ys, segment.ys, mode='same') # -N/2 - N/2\n",
    "corr2\n",
    "N = int(len(corr2) / 2)\n",
    "x = np.linspace(-N, N, len(corr2))\n",
    "plt.plot(x, corr2)\n",
    "plt.show()\n",
    "\n",
    "#自相关函数是对称的，这是因为两个相同信号进行相关运算的时候， 正的lag值与负的lag值产生的影响是一样的。我们选择后半部分\n",
    "half = corr2[N:]\n",
    "plt.plot(half)\n",
    "plt.show()\n",
    "\n",
    "off = 50 + np.argmax(half[50:150])\n",
    "print(off) \n",
    "print(\"pitch:\", segment.framerate/off)"
   ]
  },
  {
   "cell_type": "code",
   "execution_count": null,
   "metadata": {},
   "outputs": [],
   "source": []
  }
 ],
 "metadata": {
  "kernelspec": {
   "display_name": "python35",
   "language": "python",
   "name": "python35"
  },
  "language_info": {
   "codemirror_mode": {
    "name": "ipython",
    "version": 3
   },
   "file_extension": ".py",
   "mimetype": "text/x-python",
   "name": "python",
   "nbconvert_exporter": "python",
   "pygments_lexer": "ipython3",
   "version": "3.5.6"
  }
 },
 "nbformat": 4,
 "nbformat_minor": 2
}
