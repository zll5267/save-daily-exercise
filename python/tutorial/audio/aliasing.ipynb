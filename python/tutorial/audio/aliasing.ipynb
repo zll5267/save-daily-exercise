{
 "cells": [
  {
   "cell_type": "code",
   "execution_count": null,
   "metadata": {},
   "outputs": [],
   "source": [
    "#混叠(aliasing) 欠采样\n",
    "import thinkdsp\n",
    "import matplotlib\n",
    "import numpy as np\n",
    "import thinkplot\n",
    "\n",
    "signal = thinkdsp.SawtoothSignal (1100)\n",
    "signal.plot()\n",
    "matplotlib.pyplot.show()\n",
    "\n",
    "wave = signal.make_wave(duration=1, framerate=10000)\n",
    "\n",
    "spectrum = wave.make_spectrum()\n",
    "#thinkplot.config(xlabel='Frequency (Hz)', ylabel='Amplitude', ylim=[0, 500], xlim=[0, 2000])\n",
    "spectrum.plot()\n",
    "matplotlib.pyplot.show()\n",
    "\n",
    "wave.make_audio()"
   ]
  },
  {
   "cell_type": "markdown",
   "metadata": {},
   "source": [
    "<p> 这个信号的谐波应该在2200Hz，3300Hz，4400Hz,5500Hz,6600Hz, 7700Hz, 8800Hz, 9900Hz\n",
    "\n",
    "<p> 实际看到的确实：    2200Hz，3300Hz，4400Hz,4500Hz,3400Hz, 2300Hz, 1200Hz, 100Hz\n",
    "    \n",
    "    \n",
    "<p> 在计算整个信号的波形的过程中，实际上是在采样点在对信号进行了离散化的处理，\n",
    "<p> 因此 在连续信号的各个采样点之间会丢失掉一些信息。\n",
    "<p> 对于低频的信号丢失的信息不多，因为同样的采样率下，频率低的信号在一个周期内可以有更多的采样点。\n",
    "    \n"
   ]
  },
  {
   "cell_type": "code",
   "execution_count": null,
   "metadata": {},
   "outputs": [],
   "source": [
    "# 两个不同的信号却产生了相同的采样值。\n",
    "framerate = 10000\n",
    "\n",
    "signal = thinkdsp.CosSignal(4500)\n",
    "duration = signal.period*5\n",
    "segment = signal.make_wave(duration, framerate=framerate)\n",
    "segment.plot()\n",
    "matplotlib.pyplot.show()\n",
    "\n",
    "signal = thinkdsp.CosSignal(5500)\n",
    "segment = signal.make_wave(duration, framerate=framerate)\n",
    "segment.plot()"
   ]
  },
  {
   "cell_type": "markdown",
   "metadata": {},
   "source": [
    "<p>用10000Hz采样率对5500Hz信号进行采样的时候，其结果与4500Hz的信号是相同的。 \n",
    "<p>正是因为这样，7700Hz的信号和2300Hz的信号，9900Hz的信号和100Hz的信号在采样后也是相同的。\n",
    "    \n",
    "<p>信号采样后产生的这种现象，我们就称为<font color=red>混叠（aliasing）</font> ，简单来说，就是高频信号采样后的与 某些特定的低频信号是无法区分出来的。\n"
   ]
  },
  {
   "cell_type": "code",
   "execution_count": null,
   "metadata": {},
   "outputs": [],
   "source": []
  },
  {
   "cell_type": "code",
   "execution_count": null,
   "metadata": {},
   "outputs": [],
   "source": []
  }
 ],
 "metadata": {
  "kernelspec": {
   "display_name": "python35",
   "language": "python",
   "name": "python35"
  },
  "language_info": {
   "codemirror_mode": {
    "name": "ipython",
    "version": 3
   },
   "file_extension": ".py",
   "mimetype": "text/x-python",
   "name": "python",
   "nbconvert_exporter": "python",
   "pygments_lexer": "ipython3",
   "version": "3.5.6"
  }
 },
 "nbformat": 4,
 "nbformat_minor": 2
}
