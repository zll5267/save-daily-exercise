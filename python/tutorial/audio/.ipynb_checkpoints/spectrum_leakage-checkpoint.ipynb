{
 "cells": [
  {
   "cell_type": "markdown",
   "metadata": {},
   "source": [
    "<p>计算离散傅立叶变换（DFT）的时候，我们是把有限长度的信号看成是周期信号来处理的， \n",
    "<br>    也就是说，DFT假定进行变换的有限长度信号是一个无限长度的周期信号的完整周期。\n",
    "    \n",
    "<p> DFT计算的时候是把信号的开始拼接到信号的末尾来构成无限循环的周期信号的。 \n",
    "<br>    因此一个普遍的问题是在这个信号的开始和结束的值并不相等，使得最终扩展的周期信号不连续。 \n",
    "<br>    这种不连续会造成频谱中包含一些本来不属于信号本身的频率分量。\n",
    "    "
   ]
  },
  {
   "cell_type": "code",
   "execution_count": null,
   "metadata": {},
   "outputs": [],
   "source": [
    "import thinkdsp\n",
    "import matplotlib\n",
    "import numpy as np\n",
    "import thinkplot\n",
    "\n",
    "signal = thinkdsp.SinSignal(freq=440)\n",
    "duration = signal.period * 10\n",
    "wave = signal.make_wave(duration) #default framerate=11025\n",
    "spectrum = wave.make_spectrum()\n",
    "thinkplot.config(xlim=[0, 1000])\n",
    "spectrum.plot()"
   ]
  },
  {
   "cell_type": "code",
   "execution_count": null,
   "metadata": {},
   "outputs": [],
   "source": [
    "duration = signal.period * 10.25\n",
    "wave = signal.make_wave(duration)\n",
    "spectrum = wave.make_spectrum()\n",
    "thinkplot.config(xlim=[0, 1000])\n",
    "spectrum.plot()\n",
    "\n",
    "#看到除了440Hz的峰值之外， 频谱中还有一些其他的频率分量，它们分布在240~640Hz之间。 \n",
    "#这种现象，我们就称为 频谱泄露（spectral leakage） ，因为整个信号的能量从基频 泄露了一部分到其他的频率上。\n"
   ]
  },
  {
   "cell_type": "code",
   "execution_count": null,
   "metadata": {},
   "outputs": [],
   "source": [
    "# window function\n",
    "#通过把不连续的首尾连接处做平滑处理来减小泄露的产生， 加窗（windowing） 就是进行平滑的一种方法。\n",
    "\n",
    "wave.plot()"
   ]
  },
  {
   "cell_type": "code",
   "execution_count": null,
   "metadata": {},
   "outputs": [],
   "source": [
    "window = np.hamming(len(wave))\n",
    "matplotlib.pyplot.plot(window)"
   ]
  },
  {
   "cell_type": "code",
   "execution_count": null,
   "metadata": {},
   "outputs": [],
   "source": [
    "wave.window(window)\n",
    "wave.plot()"
   ]
  },
  {
   "cell_type": "code",
   "execution_count": null,
   "metadata": {},
   "outputs": [],
   "source": [
    "spectrum = wave.make_spectrum()\n",
    "thinkplot.config(xlim=[0, 1000])\n",
    "spectrum.plot()"
   ]
  },
  {
   "cell_type": "code",
   "execution_count": null,
   "metadata": {},
   "outputs": [],
   "source": [
    "#窗口选择\n",
    "#1. 如果截断的信号仍为周期信号，则不存在泄漏，无须加窗，相当于加矩形窗。\n",
    "#2. 如果信号是随机信号或者未知信号，或者有多个频率分量，测试关注的是频率点而非能量大小，建议选择汉宁窗，像LMS Test.Lab中默认加的就是汉宁窗。\n",
    "#3. 对于校准目的，则要求幅值精确，平顶窗是个不错的选择。\n",
    "#4. 如果同时要求幅值精度和频率精度，可选择凯塞窗。\n",
    "#5. 如果检测两个频率相近、幅值不同的信号，建议用布莱克曼窗。\n",
    "#6. 锤击法试验力信号加力窗，响应可加指数窗。"
   ]
  },
  {
   "cell_type": "code",
   "execution_count": null,
   "metadata": {},
   "outputs": [],
   "source": []
  }
 ],
 "metadata": {
  "kernelspec": {
   "display_name": "python35",
   "language": "python",
   "name": "python35"
  },
  "language_info": {
   "codemirror_mode": {
    "name": "ipython",
    "version": 3
   },
   "file_extension": ".py",
   "mimetype": "text/x-python",
   "name": "python",
   "nbconvert_exporter": "python",
   "pygments_lexer": "ipython3",
   "version": "3.5.6"
  }
 },
 "nbformat": 4,
 "nbformat_minor": 2
}
