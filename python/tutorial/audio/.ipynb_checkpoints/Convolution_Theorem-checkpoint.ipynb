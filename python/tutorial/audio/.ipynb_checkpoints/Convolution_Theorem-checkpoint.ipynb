{
 "cells": [
  {
   "cell_type": "code",
   "execution_count": null,
   "metadata": {},
   "outputs": [],
   "source": [
    "import numpy as np\n",
    "import matplotlib.pyplot as plt\n",
    "import scipy\n",
    "import scipy.signal\n",
    "\n",
    "import thinkdsp\n",
    "import thinkplot\n",
    "\n",
    "#np.set_printoptions(precision=3) # 计算精度\n",
    "#np.set_printoptions(suppress=True) #抑制科学计数法"
   ]
  },
  {
   "cell_type": "code",
   "execution_count": null,
   "metadata": {},
   "outputs": [],
   "source": [
    "# 时域的卷积等于频域乘积\n",
    "\n",
    "test_ys = [1, 2, 3, 4, 5, 6] #\n",
    "test_win = [1, 0, 2] #window\n",
    "test_con = np.convolve(test_ys, test_win, mode='valid') # 卷积结果为 N - (M - 1)\n",
    "\n",
    "print(test_con)\n",
    "\n",
    "test_win_padded = [1, 0, 2, 0, 0, 0] #扩充为 N\n",
    "\n",
    "test_ys_fft = np.fft.fft(test_ys)\n",
    "test_win_fft = np.fft.fft(test_win_padded)\n",
    "#print(np.abs(test_ys_fft)*np.abs(test_win_fft))\n",
    "print((np.fft.ifft(test_ys_fft * test_win_fft))[len(test_win)-1:]) # 高效的卷积计算公式 O(n^2) -> O(nlogn)\n",
    "\n",
    "print((np.fft.ifft(test_ys_fft * test_win_fft)))"
   ]
  },
  {
   "cell_type": "code",
   "execution_count": null,
   "metadata": {},
   "outputs": [],
   "source": [
    "#平滑\n",
    "#移动平均法：它将信号之前 n 个时刻的值的平均值作为 新的信号的第 n 个值。\n",
    "signal = thinkdsp.SquareSignal(freq=440)\n",
    "wave = signal.make_wave(duration=1, framerate=10000)\n",
    "#thinkplot.config(xlim=[0,0.01], linewidth=0.1)\n",
    "#wave.plot()\n",
    "segment = wave.segment(duration=0.01)\n",
    "\n",
    "fig, ax = plt.subplots()\n",
    "ax.plot(segment.ts, segment.ys, alpha=0.5)\n",
    "#plt.show()\n",
    "\n",
    "#窗函数，计算加权和, 11个值的加权平均\n",
    "window = np.ones(11)\n",
    "window /= sum(window)\n",
    "\n",
    "def smooth(ys, window):\n",
    "    N = len(ys)\n",
    "    smoothed = np.zeros(N)\n",
    "    padded = thinkdsp.zero_pad(window, N)\n",
    "    rolled = padded\n",
    "\n",
    "    for i in range(N):\n",
    "        smoothed[i] = sum(rolled * ys)\n",
    "        rolled = np.roll(rolled, 1)\n",
    "    return smoothed\n",
    "\n",
    "smooth_ys = smooth(segment.ys, window)\n",
    "ax.plot(segment.ts, smooth_ys)\n",
    "plt.show()"
   ]
  },
  {
   "cell_type": "code",
   "execution_count": null,
   "metadata": {},
   "outputs": [],
   "source": [
    "# 窗函数对信号逐段进行的操作就叫做 卷积(convolution)\n",
    "convolved = np.convolve(segment.ys, window, mode='valid') \n",
    "# valid means 只计算窗函数和波形 完全重叠没有交叉的部分,从窗函数与波形数据左对齐开始，直到窗口移动到与波形右对齐\n",
    "smooth2 = thinkdsp.Wave(convolved, framerate=wave.framerate)\n",
    "smooth2.plot()"
   ]
  },
  {
   "cell_type": "markdown",
   "metadata": {},
   "source": [
    "前面的计算公式为：$$(f*g)[n] = \\sum_{m=0}^{N-1}f[m]g[n+m]$$ (f为窗函数，g为信号，N为窗长)\n",
    "<p> <b>真正的卷积定义</b>：$$(f*g)[n] = \\sum_{m=0}^{N-1}f[m]g[n-m]$$\n",
    "    \n",
    "    \n",
    "<p>卷积定理证明：https://blog.csdn.net/baimafujinji/article/details/50179495\n",
    "    $$f(x)*g(x) = \\int_{-\\infty}^{+\\infty}f(\\tau)g(x-\\tau)d\\tau$$\n",
    "<b>卷积是一种积分运算，它可以用来描述线性时不变系统的输入和输出的关系：即输出可以通过输入和一个表征系统特性的函数（冲激响应函数）进行卷积运算得到"
   ]
  },
  {
   "cell_type": "code",
   "execution_count": null,
   "metadata": {},
   "outputs": [],
   "source": [
    "spectrum = wave.make_spectrum()\n",
    "#spectrum.plot(alpha=0.5)\n",
    "fig, ax = plt.subplots()\n",
    "ax.plot(spectrum.fs, np.abs(spectrum.hs), label='before smooth')\n",
    "\n",
    "convolved = np.convolve(wave.ys, window, mode='same') #计算结果需要和输入的长度一致\n",
    "smooth = thinkdsp.Wave(convolved, framerate=wave.framerate) #平滑后的时域波\n",
    "spectrum2 = smooth.make_spectrum()\n",
    "#spectrum2.plot()\n",
    "ax.plot(spectrum2.fs, np.abs(spectrum2.hs), label='after smooth')\n",
    "plt.title('frequency domain compare[before smooth:after smooth]')\n",
    "\n",
    "#平滑操作具有低通滤波的效果"
   ]
  },
  {
   "cell_type": "code",
   "execution_count": null,
   "metadata": {},
   "outputs": [],
   "source": [
    "#比较平滑后，频率幅值变化比\n",
    "amps = spectrum.amps\n",
    "amps2 = spectrum2.amps\n",
    "ratio = amps2 / amps\n",
    "ratio[amps<560] = 0\n",
    "thinkplot.plot(ratio)\n",
    "\n",
    "#先看下面的卷积定理, 比值反映了频域的乘积\n",
    "padded = thinkdsp.zero_pad(window, len(wave.ys))\n",
    "dft_window = np.fft.rfft(padded)\n",
    "thinkplot.plot(abs(dft_window))\n"
   ]
  },
  {
   "cell_type": "markdown",
   "metadata": {},
   "source": [
    "<p><b>卷积定理</b> $$DFT(f*g) = DFT(f) * DFT(g)$$\n",
    "<p> f 是波形数据， g 是窗函数,  f 与 g 的卷积后的信号的DFT， 与它们分别进行DFT然后再相乘的结果是一样的\n",
    "    <br><b>时域的卷积相当于频域的乘积</b>\n",
    "<p>上图中的幅值比值与窗函数的完全重合，用数学公式表示是 $$\\frac {|DFT(f*g)|} {|DFT(f)|} = |DFT(g)|$$\n",
    "<p> 在频域下，窗函数的DFT就称为 滤波器(filter)，也就是说时域上一个窗函数的卷积，就对应了 频域下的一个滤波器。\n",
    "    \n",
    "<p>移动平均窗是一个低通滤波器，但是滤波的效果并不是很好。因为它的DFT一开始衰减的很快， 但是后面开始上下震荡，这种情况被称为 旁瓣（sidelobes） 。由于移动平均窗实际上是一个方波信号，它的频谱上包含高频的谐波成分并且幅值是按照 1/f 衰减的，这就比较慢了。"
   ]
  },
  {
   "cell_type": "code",
   "execution_count": null,
   "metadata": {},
   "outputs": [],
   "source": [
    "#高斯滤波器\n",
    "gaussian = scipy.signal.gaussian(M=11, std=2)\n",
    "gaussian /= sum(gaussian)\n",
    "\n",
    "plt.plot(window, label='smooth')\n",
    "plt.plot(gaussian, label='Gaussian')"
   ]
  },
  {
   "cell_type": "code",
   "execution_count": null,
   "metadata": {},
   "outputs": [],
   "source": [
    "spectrum = wave.make_spectrum()\n",
    "\n",
    "fig, ax = plt.subplots()\n",
    "ax.plot(spectrum.fs, np.abs(spectrum.hs), label='before gaussian')\n",
    "\n",
    "convolved = np.convolve(wave.ys, gaussian, mode='same') #计算结果需要和输入的长度一致\n",
    "smooth = thinkdsp.Wave(convolved, framerate=wave.framerate) #gaussian后的时域波\n",
    "spectrum2 = smooth.make_spectrum()\n",
    "#spectrum2.plot()\n",
    "ax.plot(spectrum2.fs, np.abs(spectrum2.hs), label='after gaussian')\n",
    "plt.title('frequency domain compare[before gaussian:after gaussian]')"
   ]
  },
  {
   "cell_type": "code",
   "execution_count": null,
   "metadata": {},
   "outputs": [],
   "source": [
    "#比较gaussian后，频率幅值变化比\n",
    "amps = spectrum.amps\n",
    "amps2 = spectrum2.amps\n",
    "ratio = amps2 / amps\n",
    "ratio[amps<560] = 0\n",
    "thinkplot.plot(ratio)\n",
    "\n",
    "padded = thinkdsp.zero_pad(gaussian, len(wave.ys))\n",
    "dft_window = np.fft.rfft(padded)\n",
    "thinkplot.plot(abs(dft_window))\n",
    "\n",
    "#对于低通滤波的效果来说，高斯平滑要比移动平均要更好一些, 可以更好的去除信号的高频成分"
   ]
  },
  {
   "cell_type": "markdown",
   "metadata": {},
   "source": [
    "<p><b>高效的卷积:</b> FFT的一个重要的运用是，它与卷积定理结合起来可以提供一种高效的计算卷积方法\n",
    "    $$f*g = IDFT(DFT(f)*DFT(g)) (O(n^2) -> O(nlogn))$$\n",
    "    \n",
    "<p><b>高效的自相关:</b> FFT的一个重要的运用是，它与卷积定理结合起来可以提供一种高效的计算自/互相关函数方法"
   ]
  },
  {
   "cell_type": "code",
   "execution_count": null,
   "metadata": {},
   "outputs": [],
   "source": [
    "def fft_convolve(signal, window):\n",
    "    fft_signal = np.fft(signal)\n",
    "    fft_window = np.fft(window)\n",
    "    return np.ifft(fft_signal * fft_window)\n",
    "\n",
    "\n",
    "#corrs = np.correlate(close, close, mode='same')\n",
    "def fft_autocorr(signal):\n",
    "    N = len(signal)\n",
    "    signal = thinkdsp.zero_pad(signal, 2*N)\n",
    "    window = np.flipud(signal) #把窗函数（本身）进行反向\n",
    "\n",
    "    corrs = fft_convolve(signal, window)#fft_convolve 的结果长度是2N，其中前 N/2 个元素和后 N/2 个元素是有效的\n",
    "    corrs = np.roll(corrs, N//2+1)[:N]\n",
    "    return corrs"
   ]
  },
  {
   "cell_type": "code",
   "execution_count": null,
   "metadata": {},
   "outputs": [],
   "source": []
  },
  {
   "cell_type": "code",
   "execution_count": null,
   "metadata": {},
   "outputs": [],
   "source": []
  },
  {
   "cell_type": "markdown",
   "metadata": {},
   "source": [
    "Reference: http://colah.github.io/posts/2014-07-Understanding-Convolutions/"
   ]
  },
  {
   "cell_type": "code",
   "execution_count": null,
   "metadata": {},
   "outputs": [],
   "source": [
    "help(np.convolve)"
   ]
  },
  {
   "cell_type": "code",
   "execution_count": null,
   "metadata": {},
   "outputs": [],
   "source": [
    " np.convolve([1, 2, 3],[0, 1, 0.5], 'valid')"
   ]
  },
  {
   "cell_type": "code",
   "execution_count": null,
   "metadata": {},
   "outputs": [],
   "source": []
  }
 ],
 "metadata": {
  "kernelspec": {
   "display_name": "python35",
   "language": "python",
   "name": "python35"
  },
  "language_info": {
   "codemirror_mode": {
    "name": "ipython",
    "version": 3
   },
   "file_extension": ".py",
   "mimetype": "text/x-python",
   "name": "python",
   "nbconvert_exporter": "python",
   "pygments_lexer": "ipython3",
   "version": "3.5.6"
  }
 },
 "nbformat": 4,
 "nbformat_minor": 2
}
