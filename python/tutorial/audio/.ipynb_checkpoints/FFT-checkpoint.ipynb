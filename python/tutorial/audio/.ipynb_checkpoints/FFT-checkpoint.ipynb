{
 "cells": [
  {
   "cell_type": "markdown",
   "metadata": {},
   "source": [
    "经过FFT后有N个元素的序列x经过傅里叶变化生成有N个元素的y\n",
    "$$ y[k] = \\sum_{n=0}^{N-1}{e^{-2\\pi j \\frac {kn}{N}}}{x[n]}$$\n",
    "反FFT\n",
    "$$ x[n] = \\frac {1} {N} \\sum_{k=0}^{N-1}{e^{2\\pi j \\frac {kn}{N}}}{y[k]}$$\n",
    "\n",
    "欧拉公式：\n",
    "$$e^{\\theta j} = cos(\\theta) + jsin(\\theta)$$\n",
    "\n",
    "经过FFT后变为复数形式：$$ x + jy$$\n",
    "$$x + jy == Acos(\\theta) + Asin(\\theta)j$$\n",
    "$$Acos(\\theta) + Asin(\\theta)j == A(cos(\\theta) + sin(\\theta)j) == Ae^{\\theta j}$$\n",
    "$$A = \\sqrt{(x^2 + y^2)}$$\n",
    "$$\\theta == arctan(\\frac y x)$$"
   ]
  },
  {
   "cell_type": "markdown",
   "metadata": {},
   "source": [
    "通常使用中FFT针对的是实数序列进行运算的，这组数的长度N一般都是2的整数次幂，比如：256,512等,后面主要是看这样数据的处理。\n",
    "\n",
    "<p> 实数序列FFT后有下面规律：\n",
    "    \n",
    "- 下标是0 和 N/2虚部是0， 有单独的名字：DC，NC (直流分量，奈奎斯特分量)\n",
    "- 下标$ 1 => \\frac N 2 -1$正的频率部分，升序排列，下标$\\frac N 2 + 1 => N - 1$是负频率部分，降序排列（频域是对称的）\n"
   ]
  },
  {
   "cell_type": "code",
   "execution_count": null,
   "metadata": {},
   "outputs": [],
   "source": [
    "import numpy as np\n",
    "import scipy\n",
    "\n",
    "x = np.array([1.0, 2.0, 1.0, -1.0, 1.5, 2.0])\n",
    "\n",
    "print(\"np.fft(x):\")\n",
    "print(np.fft.fft(x))\n",
    "y = scipy.fftpack.rfft(x)\n",
    "print(\"scipy.fftpack.rfft(x):\")\n",
    "print(y)\n",
    "print(\"np.fft.rfft:\")\n",
    "print(np.fft.rfft(x))\n",
    "print(\"scipy.fftpack.ifft:\")\n",
    "yinv = scipy.fftpack.irfft(y)\n",
    "print(yinv)\n",
    "\n",
    "print(\"np.angle:\", np.angle(-3.25-0.433012702j, deg=False))\n",
    "print(\"np.arctan:\", np.arctan(0.433012702/3.25))\n",
    "\n",
    "\n",
    "print(np.tan(-3.0091380550951676), np.tan(0.1324545984946257))\n",
    "print(\"np.angle->[0, pi]:\", np.angle(-3.25-0.433012702j, deg=False) + np.pi)\n"
   ]
  },
  {
   "cell_type": "markdown",
   "metadata": {},
   "source": [
    " <p>真正有用的数据就是从$0 => \\frac N 2$, 由于0 和 N/2的分量虚部为0，因此只有N个有效值(2 + (N/2 - 1) * 2)\n",
    "    \n",
    "* 下标为0的实数表示了时域信号中的直流成分的多少\n",
    "* 下标为i的复数a+b*j表示时域信号中周期为(N/f * i)的正弦波和余弦波的成分的多少， 其中f为采样率，a表示cos波形的成分，b表示sin波形的成分"
   ]
  },
  {
   "cell_type": "code",
   "execution_count": null,
   "metadata": {},
   "outputs": [],
   "source": [
    "#直流信号：值不随时间变化的信号\n",
    "import matplotlib.pyplot as plt\n",
    "x = np.ones(8)\n",
    "print(x)\n",
    "x_fft = np.fft.fft(x)\n",
    "print(x_fft)\n",
    "plt.plot(x)"
   ]
  },
  {
   "cell_type": "code",
   "execution_count": null,
   "metadata": {},
   "outputs": [],
   "source": [
    "#正弦波信号\n",
    "#y(t)=A∗sin((2∗π∗f*t)∗t+phase)\n",
    "\n",
    "frequency = 1\n",
    "sample_rate = 8\n",
    "\n",
    "duration = 1 # unit s\n",
    "amplitude = 10 # 100\n",
    "phase = 0  # 0 np.pi / 4  -np.pi / 4\n",
    "\n",
    "num_samples = sample_rate * duration\n",
    "delta_t = 1.0 / sample_rate\n",
    "\n",
    "sine_wave = [amplitude * np.sin(2 * np.pi * frequency * (x * delta_t) + phase) for x in range(num_samples)]  #采样\n",
    "\n",
    "y_fft = np.fft.fft(sine_wave)/len(sine_wave) #/len 每个成分的分量 ？？\n",
    "print(y_fft) \n",
    "\n",
    "import matplotlib.pyplot as plt\n",
    "\n",
    "mags = np.abs(y_fft)\n",
    "plt.plot(mags)\n"
   ]
  },
  {
   "cell_type": "code",
   "execution_count": null,
   "metadata": {},
   "outputs": [],
   "source": [
    "#余弦波信号\n",
    "#y(t)=A∗cos((2∗π∗f)∗t+phase)\n",
    "\n",
    "frequency = 1\n",
    "sample_rate = 8\n",
    "\n",
    "duration = 1 # unit s\n",
    "amplitude = 20 # 100\n",
    "phase = 0\n",
    "\n",
    "num_samples = sample_rate * duration\n",
    "delta_t = 1.0 / sample_rate\n",
    "\n",
    "cos_wave = [amplitude * np.cos(2 * np.pi * frequency * (x * delta_t) + phase) for x in range(num_samples)]  #采样\n",
    "\n",
    "y_fft = np.fft.fft(cos_wave)/len(cos_wave) #/len 每个成分的分量 ？？\n",
    "print(y_fft) \n",
    "\n",
    "import matplotlib.pyplot as plt\n",
    "\n",
    "mags = np.abs(y_fft)\n",
    "plt.plot(mags)"
   ]
  },
  {
   "cell_type": "code",
   "execution_count": null,
   "metadata": {},
   "outputs": [],
   "source": [
    "combine_wave = np.array(sine_wave) + np.array(cos_wave)\n",
    "\n",
    "y_fft = np.fft.fft(combine_wave)/len(combine_wave) #/len 每个成分的分量 ？？\n",
    "print(y_fft) \n",
    "\n",
    "import matplotlib.pyplot as plt\n",
    "\n",
    "mags = np.abs(y_fft)\n",
    "plt.plot(mags)\n",
    "plt.show()\n",
    "\n",
    "#注意余弦波的幅度为 对应频率的复数实部的2倍， 正弦波的幅度为 对应频率的复数虚部的-2倍"
   ]
  },
  {
   "cell_type": "code",
   "execution_count": null,
   "metadata": {},
   "outputs": [],
   "source": [
    "plt.plot(sine_wave)\n",
    "plt.show()\n",
    "plt.plot(cos_wave)\n",
    "plt.show()\n",
    "plt.plot(combine_wave)"
   ]
  },
  {
   "cell_type": "markdown",
   "metadata": {},
   "source": [
    "<p> <font color=red>注意余弦波的幅度为 对应频率的复数实部的2倍， 正弦波的幅度为 对应频率的复数虚部的-2倍</font>\n",
    "\n",
    "<p> <font color=red>同频率的正弦波和余弦波通过不同的系数叠加，可以产生同频率的各种相位的余弦波</font>,这样频域的复数理解为：\n",
    "  \n",
    "* 复数的模（绝对值）代表了此频率的余弦波的振幅\n",
    "* 复数的辐角代表了此频率的余弦波的相位"
   ]
  },
  {
   "cell_type": "code",
   "execution_count": null,
   "metadata": {},
   "outputs": [],
   "source": [
    "#多个不同频率余弦波信号合成\n",
    "#y(t)=A∗cos((2∗π∗f)∗t+phase)\n",
    "\n",
    "def create_cos_wave(frequency, sample_rate, duration, amplitude, phase):\n",
    "    num_samples = sample_rate * duration\n",
    "    delta_t = 1.0 / sample_rate\n",
    "\n",
    "    cos_wave = [amplitude * np.cos(2 * np.pi * frequency * (x * delta_t) + phase) for x in range(num_samples)]  #采样\n",
    "    return cos_wave\n",
    "\n",
    "cos1_wave = create_cos_wave(frequency = 1, sample_rate = 8, duration = 1, amplitude = 10, phase = 0)\n",
    "cos2_wave = create_cos_wave(frequency = 2, sample_rate = 8, duration = 1, amplitude = 20, phase = 0)\n",
    "cos3_wave = create_cos_wave(frequency = 3, sample_rate = 8, duration = 1, amplitude = 30, phase = 0)\n",
    "\n",
    "combined_signal = np.array(cos1_wave) + np.array(cos2_wave) + np.array(cos3_wave)\n",
    "\n",
    "y_fft = np.fft.fft(combined_signal)/len(combined_signal) #/len 每个成分的分量 ？？\n",
    "print(y_fft) \n",
    "\n",
    "import matplotlib.pyplot as plt\n",
    "\n",
    "mags = np.abs(y_fft)\n",
    "plt.plot(mags)"
   ]
  },
  {
   "cell_type": "code",
   "execution_count": null,
   "metadata": {},
   "outputs": [],
   "source": [
    "import numpy as np\n",
    "import matplotlib.pyplot as plt\n",
    "#合成时域波\n",
    "# 产生size点取样的三角波，其周期为1\n",
    "def triangle_wave(size):\n",
    "    x = np.arange(0, 1, 1.0/size)\n",
    "    y = np.where(x<0.5, x, 0)\n",
    "    y = np.where(x>=0.5, 1-x, y)\n",
    "    return x, y\n",
    "\n",
    "fft_size = 256\n",
    "\n",
    "# 计算三角波和其FFT\n",
    "x, y = triangle_wave(fft_size)\n",
    "plt.plot(y) #使用取样点为x轴\n",
    "plt.show()\n",
    "fy = np.fft.fft(y) / fft_size\n",
    "plt.plot(np.abs(fy)) #使用取样点为x轴\n",
    "plt.ylim(-0.01, 0.01) #如果不加限制，幅度相差太大，小的值看不到了\n",
    "#plt.xlim(10, 20)\n",
    "plt.show()\n",
    "\n",
    "plt.plot(np.clip(20*np.log10(np.abs(fy[:40])), -120, 120), \"o\") # 防止0值的log产生过大的值，使用np.clip限制输出\n",
    "plt.xlabel(\"frequency\")\n",
    "plt.ylabel(\"power(dB)\")\n",
    "plt.title(\"FFT result of triangle wave\")\n",
    "plt.show()"
   ]
  },
  {
   "cell_type": "code",
   "execution_count": null,
   "metadata": {},
   "outputs": [],
   "source": [
    "# 取FFT计算的结果freqs中的前n项进行合成，返回合成结果，计算loops个周期的波形\n",
    "def fft_combine(freqs, n, loops=1):\n",
    "    length = len(freqs) * loops\n",
    "    data = np.zeros(length)\n",
    "    index = loops  * (2 * np.pi) * np.arange(0, length, 1.0) / length\n",
    "    for k, p in enumerate(freqs[:n]):\n",
    "        if k != 0: p *= 2 # 除去直流成分之外，其余的系数都*2\n",
    "        data += np.real(p) * np.cos(k*index) # 余弦成分的系数为实数部\n",
    "        data -= np.imag(p) * np.sin(k*index) # 正弦成分的系数为负的虚数部\n",
    "    return index, data  \n",
    "\n",
    "plt.figure()\n",
    "plt.plot(y, label=\"original triangle\", linewidth=2)\n",
    "for i in [10]: #[0,1,3,5,7,9]\n",
    "    index, data = fft_combine(fy, i+1, 2)  # 计算两个周期的合成波形\n",
    "    plt.plot(data, label = \"N=%s\" % i)\n",
    "plt.legend()\n",
    "plt.title(\"partial Fourier series of triangle wave\")\n",
    "plt.show()"
   ]
  },
  {
   "cell_type": "code",
   "execution_count": null,
   "metadata": {},
   "outputs": [],
   "source": [
    "#对比与三角波，由正余弦信号模拟方形波的收敛速度较慢\n",
    "\n",
    "def square_wave(size):\n",
    "    x = np.arange(0, 1, 1.0/size)\n",
    "    y = np.where(x<0.5, 1.0, 0)\n",
    "    return x, y\n",
    "\n",
    "x, y = square_wave(fft_size)\n",
    "fy = np.fft.fft(y) / fft_size\n",
    "\n",
    "plt.figure()\n",
    "plt.plot(y, label=\"original square\", linewidth=2)\n",
    "for i in [60]: #[0,1,3,5,7,9]\n",
    "    index, data = fft_combine(fy, i+1, 2)  # 计算两个周期的合成波形\n",
    "    plt.plot(data, label = \"N=%s\" % i)\n",
    "plt.legend()\n",
    "plt.title(\"partial Fourier series of square wave\")\n",
    "plt.show()"
   ]
  },
  {
   "cell_type": "code",
   "execution_count": null,
   "metadata": {},
   "outputs": [],
   "source": [
    "plt.plot(np.clip(20*np.log10(np.abs(fy[:40])), -120, 120), \"o\")"
   ]
  },
  {
   "cell_type": "code",
   "execution_count": null,
   "metadata": {},
   "outputs": [],
   "source": []
  },
  {
   "cell_type": "code",
   "execution_count": null,
   "metadata": {},
   "outputs": [],
   "source": []
  },
  {
   "cell_type": "markdown",
   "metadata": {},
   "source": [
    "<p> Reference:\n",
    "  \n",
    "* https://wizardforcel.gitbooks.io/hyry-studio-scipy/content/19.html\n",
    "* https://betterexplained.com/articles/an-interactive-guide-to-the-fourier-transform/\n",
    "\n",
    "<p>小波变换通俗解释 (更好的对非平稳信号进行时频分析)\n",
    "    \n",
    "* https://mp.weixin.qq.com/s/fnQGV32QiBv0Zqytkdcxrw"
   ]
  },
  {
   "cell_type": "code",
   "execution_count": null,
   "metadata": {},
   "outputs": [],
   "source": [
    "test = np.arange(9)[1:]\n",
    "print(test)\n",
    "np.fft.rfft(test)\n",
    "print(scipy.fftpack.rfft(test))"
   ]
  },
  {
   "cell_type": "markdown",
   "metadata": {},
   "source": []
  }
 ],
 "metadata": {
  "kernelspec": {
   "display_name": "python35",
   "language": "python",
   "name": "python35"
  },
  "language_info": {
   "codemirror_mode": {
    "name": "ipython",
    "version": 3
   },
   "file_extension": ".py",
   "mimetype": "text/x-python",
   "name": "python",
   "nbconvert_exporter": "python",
   "pygments_lexer": "ipython3",
   "version": "3.5.6"
  }
 },
 "nbformat": 4,
 "nbformat_minor": 2
}
