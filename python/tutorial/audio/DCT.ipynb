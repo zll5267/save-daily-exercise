{
 "cells": [
  {
   "cell_type": "markdown",
   "metadata": {},
   "source": [
    "\n",
    "<p> DCT变换是由DFT变形而来的，可以认为是一种特殊的DFT。针对实信号的DFT，变换后是有冗余信息的(共轭复数)。\n",
    "<p> 针对这个特殊性，DCT可以将实信号变换为实信号，并去除冗余信息。\n",
    "<p> 核心思想就是将变换序列转换为2倍，成为新的实数序列(可以看做偶函数，消除了sin分量只剩下cos分量)，在进行DFT后只剩下实数项。\n",
    "    \n",
    "<p> 计算DCT时，就是使用DCT正交基(矩阵)与信号做乘积\n",
    "<p> 更多信息参考： http://fourier.eng.hmc.edu/e161/lectures/dct/node1.html\n",
    "    "
   ]
  },
  {
   "cell_type": "code",
   "execution_count": null,
   "metadata": {},
   "outputs": [],
   "source": []
  }
 ],
 "metadata": {
  "kernelspec": {
   "display_name": "python35",
   "language": "python",
   "name": "python35"
  },
  "language_info": {
   "codemirror_mode": {
    "name": "ipython",
    "version": 3
   },
   "file_extension": ".py",
   "mimetype": "text/x-python",
   "name": "python",
   "nbconvert_exporter": "python",
   "pygments_lexer": "ipython3",
   "version": "3.5.6"
  }
 },
 "nbformat": 4,
 "nbformat_minor": 2
}
