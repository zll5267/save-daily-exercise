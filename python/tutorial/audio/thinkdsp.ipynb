{
 "cells": [
  {
   "cell_type": "code",
   "execution_count": null,
   "metadata": {},
   "outputs": [],
   "source": [
    "import IPython\n",
    "wave_file = \"/home/leliang/project/baidu/tmp/leliang/test.wav\"\n",
    "IPython.display.Audio(wave_file)"
   ]
  },
  {
   "cell_type": "code",
   "execution_count": null,
   "metadata": {},
   "outputs": [],
   "source": [
    "import os\n",
    "print(os.path)\n",
    "import sys\n",
    "print(sys.path)"
   ]
  },
  {
   "cell_type": "code",
   "execution_count": null,
   "metadata": {},
   "outputs": [],
   "source": [
    "import thinkdsp\n",
    "import matplotlib\n",
    "import matplotlib.pyplot as plt\n",
    "import numpy as np\n",
    "import thinkplot\n",
    "\n",
    "wave_file = \"/home/leliang/project/baidu/tmp/leliang/thinkdsp_test.wav\""
   ]
  },
  {
   "cell_type": "code",
   "execution_count": null,
   "metadata": {},
   "outputs": [],
   "source": [
    "cos_sig = thinkdsp.CosSignal(freq=880, amp=1.0, offset=0)\n",
    "cos_wave = cos_sig.make_wave(duration=1, start=0, framerate=16000)\n",
    "cos_wave.make_audio()\n",
    "\n",
    "cos_wave.write(filename=wave_file)"
   ]
  },
  {
   "cell_type": "code",
   "execution_count": null,
   "metadata": {},
   "outputs": [],
   "source": [
    "sin_sig = thinkdsp.SinSignal(freq=880, amp=1.0, offset=0)\n",
    "sin_wave = sin_sig.make_wave(duration=1, start=0, framerate=16000)\n",
    "sin_wave.make_audio()"
   ]
  },
  {
   "cell_type": "code",
   "execution_count": null,
   "metadata": {},
   "outputs": [],
   "source": [
    "duration = 0.5\n",
    "framerate = 16000\n",
    "\n",
    "CDEFGAB = [261.63, 293.66, 329.63, 349.23, 392.00, 440.00, 493.88, 523.25]\n",
    "wave_all = None\n",
    "for freq in CDEFGAB:\n",
    "    cos_sig = thinkdsp.CosSignal(freq=freq, amp=1.0, offset=0)\n",
    "    if wave_all:\n",
    "        wave_all |= cos_sig.make_wave(duration=duration, start=0, framerate=framerate)\n",
    "    else:\n",
    "        wave_all = cos_sig.make_wave(duration=duration, start=0, framerate=framerate)\n",
    "\n",
    "wave_all.make_audio()\n",
    "\n",
    "#wave_all.plot()\n",
    "#thinkplot.config(xlim=[0.48, 0.51])"
   ]
  },
  {
   "cell_type": "code",
   "execution_count": null,
   "metadata": {},
   "outputs": [],
   "source": [
    "duration = 0.5\n",
    "framerate = 16000\n",
    "\n",
    "CDEFGAB = np.array([261.63, 293.66, 329.63, 349.23, 392.00, 440.00, 493.88, 523.25])\n",
    "CDEFGAB2 = CDEFGAB * 2\n",
    "CDEFGAB3 = CDEFGAB * 3\n",
    "CDEFGAB4 = CDEFGAB * 4\n",
    "CDEFGAB5 = CDEFGAB * 5\n",
    "\n",
    "freqs = zip(CDEFGAB, CDEFGAB2, CDEFGAB3, CDEFGAB4, CDEFGAB5)\n",
    "\n",
    "wave_all = None\n",
    "for (freq1, freq2, freq3, freq4, freq5) in freqs:\n",
    "    cos_sig1 = thinkdsp.CosSignal(freq=freq1, amp=1.0, offset=0)\n",
    "    cos_sig2 = thinkdsp.CosSignal(freq=freq2, amp=0.5, offset=0)\n",
    "    cos_sig3 = thinkdsp.CosSignal(freq=freq3, amp=0.25, offset=0)\n",
    "    cos_sig4 = thinkdsp.CosSignal(freq=freq4, amp=0.125, offset=0)\n",
    "    cos_sig5 = thinkdsp.CosSignal(freq=freq5, amp=0.0625, offset=0)\n",
    "    \n",
    "    cos_sig = cos_sig1 + cos_sig2 + cos_sig3 + cos_sig4 + cos_sig5\n",
    "    if wave_all:\n",
    "        wave_all |= cos_sig.make_wave(duration=duration, start=0, framerate=framerate)\n",
    "    else:\n",
    "        wave_all = cos_sig.make_wave(duration=duration, start=0, framerate=framerate)\n",
    "\n",
    "wave_all.make_audio()\n",
    "\n",
    "#wave_all.plot()\n",
    "#thinkplot.config(xlim=[0.40, 0.51])"
   ]
  },
  {
   "cell_type": "code",
   "execution_count": null,
   "metadata": {},
   "outputs": [],
   "source": [
    "cos_sig = thinkdsp.CosSignal(freq=440, amp=1.0, offset=0)\n",
    "sin_sig = thinkdsp.SinSignal(freq=880, amp=0.5, offset=0)\n",
    "\n",
    "mix = sin_sig + cos_sig\n",
    "\n",
    "wave = mix.make_wave(duration=1, start=0, framerate=11025)\n",
    "\n",
    "wave.make_audio()\n"
   ]
  },
  {
   "cell_type": "code",
   "execution_count": null,
   "metadata": {},
   "outputs": [],
   "source": [
    "period = mix.period\n",
    "duration = period * 3\n",
    "\n",
    "segment = wave.segment(start=0, duration=duration)\n",
    "print(\"segment samples:\", duration * wave.framerate)\n",
    "\n",
    "segment.plot()"
   ]
  },
  {
   "cell_type": "code",
   "execution_count": null,
   "metadata": {},
   "outputs": [],
   "source": [
    "spectrum = segment.make_spectrum()\n",
    "\n",
    "thinkplot.config(xlabel='Frequency (Hz)',\n",
    "                 ylabel='Amplitude',\n",
    "                 xlim=[0, 2000])\n",
    "spectrum.plot()"
   ]
  },
  {
   "cell_type": "code",
   "execution_count": null,
   "metadata": {},
   "outputs": [],
   "source": [
    "spectrum = wave.make_spectrum()\n",
    "\n",
    "thinkplot.config(xlabel='Frequency (Hz)',\n",
    "                 ylabel='Amplitude',\n",
    "                 xlim=[0, 2000])\n",
    "spectrum.plot()"
   ]
  },
  {
   "cell_type": "code",
   "execution_count": null,
   "metadata": {},
   "outputs": [],
   "source": [
    "#滤波器  low_pass, high_pass, band_stop\n",
    "#过滤掉上面的880频率\n",
    "spectrum.low_pass(cutoff=500, factor=0.01)\n",
    "\n",
    "thinkplot.config(xlabel='Frequency (Hz)',\n",
    "                 ylabel='Amplitude',\n",
    "                 xlim=[0, 2000])\n",
    "spectrum.plot()"
   ]
  },
  {
   "cell_type": "code",
   "execution_count": null,
   "metadata": {},
   "outputs": [],
   "source": [
    "#三角波\n",
    "#谐波里面没有基频的偶数倍的频率（400Hz，800Hz等）， 而只有奇数倍的频率（600Hz，1000Hz，1400Hz等）\n",
    "#随着谐波频率的增加，幅度的减弱与频率的平方大致呈比例的关系\n",
    "\n",
    "signal = thinkdsp.TriangleSignal(200) #Frequency 200Hz\n",
    "signal.plot()\n",
    "matplotlib.pyplot.show()\n",
    "\n",
    "wave = signal.make_wave(duration=0.5, framerate=10000)\n",
    "\n",
    "spectrum = wave.make_spectrum()\n",
    "\n",
    "\n",
    "#thinkplot.config(xlabel='Frequency (Hz)', ylabel='Amplitude', ylim=[0, 500], xlim=[0, 2000])\n",
    "spectrum.plot()\n",
    "matplotlib.pyplot.show()\n",
    "\n",
    "wave.make_audio()"
   ]
  },
  {
   "cell_type": "code",
   "execution_count": null,
   "metadata": {},
   "outputs": [],
   "source": [
    "#方波\n",
    "#只包含奇数倍的谐波频率\n",
    "#幅度的减弱要比三角波慢一些,与频率的倒数成比例关系\n",
    "\n",
    "signal = thinkdsp.SquareSignal (200) # 200Hz\n",
    "signal.plot()\n",
    "matplotlib.pyplot.show()\n",
    "\n",
    "wave = signal.make_wave(duration=1, framerate=10000)\n",
    "\n",
    "spectrum = wave.make_spectrum()\n",
    "#thinkplot.config(xlabel='Frequency (Hz)', ylabel='Amplitude', ylim=[0, 500], xlim=[0, 2000])\n",
    "spectrum.plot()\n",
    "matplotlib.pyplot.show()\n",
    "\n",
    "wave.make_audio()"
   ]
  },
  {
   "cell_type": "code",
   "execution_count": null,
   "metadata": {},
   "outputs": [],
   "source": [
    "#锯齿波\n",
    "#锯齿波有奇次谐波也有偶次谐波，幅度与频率的倒数成比例关系\n",
    "\n",
    "signal = thinkdsp.SawtoothSignal (200)\n",
    "signal.plot()\n",
    "matplotlib.pyplot.show()\n",
    "\n",
    "wave = signal.make_wave(duration=1, framerate=10000)\n",
    "\n",
    "spectrum = wave.make_spectrum()\n",
    "#thinkplot.config(xlabel='Frequency (Hz)', ylabel='Amplitude', ylim=[0, 500], xlim=[0, 2000])\n",
    "spectrum.plot()\n",
    "matplotlib.pyplot.show()\n",
    "\n",
    "wave.make_audio()"
   ]
  },
  {
   "cell_type": "code",
   "execution_count": null,
   "metadata": {},
   "outputs": [],
   "source": [
    "#spectrumgram\n",
    "cos_sig = thinkdsp.CosSignal(freq=440, amp=1.0, offset=0)\n",
    "sin_sig = thinkdsp.SinSignal(freq=880, amp=0.5, offset=0)\n",
    "\n",
    "mix = sin_sig + cos_sig\n",
    "\n",
    "wave = mix.make_wave(duration=1, start=0, framerate=10000)\n",
    "spectrogram = wave.make_spectrogram(seg_length = int(0.1*wave.framerate))\n",
    "\n",
    "thinkplot.config(ylim=[0,1000])\n",
    "spectrogram.plot()"
   ]
  },
  {
   "cell_type": "code",
   "execution_count": null,
   "metadata": {},
   "outputs": [],
   "source": []
  },
  {
   "cell_type": "markdown",
   "metadata": {},
   "source": [
    "============================================================================="
   ]
  },
  {
   "cell_type": "code",
   "execution_count": null,
   "metadata": {},
   "outputs": [],
   "source": []
  },
  {
   "cell_type": "code",
   "execution_count": null,
   "metadata": {},
   "outputs": [],
   "source": [
    "cos_sig = thinkdsp.CosSignal(freq=440, amp=1.0, offset=0)\n",
    "sin_sig = thinkdsp.SinSignal(freq=880, amp=0.5, offset=0)\n",
    "mix = sin_sig + cos_sig\n",
    "\n",
    "wave = mix.make_wave(duration=2, start=0, framerate=11025)\n",
    "wave.plot()\n",
    "wave.write(filename=wave_file)"
   ]
  },
  {
   "cell_type": "code",
   "execution_count": null,
   "metadata": {},
   "outputs": [],
   "source": [
    "period = mix.period\n",
    "segment = wave.segment(start = 0, duration=period*3)\n",
    "segment.plot()"
   ]
  },
  {
   "cell_type": "code",
   "execution_count": null,
   "metadata": {},
   "outputs": [],
   "source": [
    "wave = thinkdsp.read_wave(wave_file)\n",
    "spectrum = wave.make_spectrum()\n",
    "spectrum.plot()"
   ]
  },
  {
   "cell_type": "code",
   "execution_count": null,
   "metadata": {},
   "outputs": [],
   "source": [
    "wave = thinkdsp.read_wave(wave_file)\n",
    "spectrum = wave.make_spectrum()\n",
    "spectrum.low_pass(cutoff=600, factor=0.01)\n",
    "spectrum.plot()\n",
    "wave = spectrum.make_wave()\n",
    "wave.write(filename=wave_file)\n"
   ]
  },
  {
   "cell_type": "code",
   "execution_count": null,
   "metadata": {},
   "outputs": [],
   "source": [
    "wave = thinkdsp.read_wave(wave_file)\n",
    "spectrum = wave.make_spectrum()\n",
    "spectrum.high_pass(cutoff=600, factor=0.01)\n",
    "spectrum.plot()\n",
    "wave = spectrum.make_wave()\n",
    "wave.write(filename=wave_file)"
   ]
  },
  {
   "cell_type": "code",
   "execution_count": null,
   "metadata": {},
   "outputs": [],
   "source": [
    "wave = thinkdsp.read_wave(wave_file)\n",
    "spectrum = wave.make_spectrum()\n",
    "help(spectrum.band_stop)\n",
    "#spectrum.plot()\n",
    "spectrum.band_stop(low_cutoff=400, high_cutoff=1000, factor=0.01)\n",
    "spectrum.plot()\n",
    "wave = spectrum.make_wave()\n",
    "wave.write(filename=wave_file)"
   ]
  },
  {
   "cell_type": "code",
   "execution_count": null,
   "metadata": {},
   "outputs": [],
   "source": [
    "#how to generate triangle signal\n",
    "import numpy as np\n",
    "import matplotlib.pyplot as plt \n",
    "from matplotlib.ticker import MultipleLocator, FormatStrFormatter\n",
    "\n",
    "xmajorLocator   = MultipleLocator(200) #将x主刻度标签设置为20的倍数\n",
    "xminorLocator   = MultipleLocator(100) #将x轴次刻度标签设置为5的倍数\n",
    "\n",
    "def my_normalize(y, amp=1.0):\n",
    "    high, low = abs(max(y)), abs(min(y))\n",
    "    return amp * y / max(high, low)\n",
    "\n",
    "def my_unbias(y):\n",
    "    return y - y.mean()\n",
    "\n",
    "frequency = 200\n",
    "offset = 0\n",
    "amp = 1\n",
    "duration = 0.5\n",
    "\n",
    "samplerate = 10000\n",
    "\n",
    "x1 = np.linspace(0, duration, samplerate * duration) # samples is 2 time frequency in 1s\n",
    "x = x1 * frequency + (offset / (2 * np.pi))\n",
    "frac, _ = np.modf(x)\n",
    "y = np.abs(frac - 0.5) # frac [0,1], y [0-0.5]\n",
    "y = my_unbias(y) # y[-0.25-0.25]\n",
    "y = my_normalize(y, amp) # y [-1, 1] * amp\n",
    "plt.xlim(0, 3 * (1 / frequency))\n",
    "plt.plot(x1, y)\n",
    "plt.show()\n",
    "\n",
    "yfft = np.fft.rfft(y)\n",
    "freqfft = np.fft.rfftfreq(len(y), (1/samplerate))\n",
    "\n",
    "#print(freqfft)\n",
    "\n",
    "plt.plot(freqfft[0:5000], np.abs(yfft)[0:5000])\n",
    "plt.xlabel(\"Frequency(Hz)\")\n",
    "plt.ylabel(\"Amplitude\")\n",
    "plt.show()\n",
    "\n",
    "plt.ylim(0,500)\n",
    "plt.plot(freqfft[0:5000], np.abs(yfft)[0:5000])\n",
    "plt.show()\n",
    "\n",
    "ax = plt.subplot(111)\n",
    "ax.xaxis.set_major_locator(xmajorLocator)\n",
    "plt.ylim(0,500)\n",
    "plt.xlim(0,2000)\n",
    "plt.plot(freqfft[0:5000], np.abs(yfft)[0:5000])\n",
    "plt.show()"
   ]
  },
  {
   "cell_type": "code",
   "execution_count": null,
   "metadata": {},
   "outputs": [],
   "source": [
    "#how to generate square signal\n",
    "import numpy as np\n",
    "import matplotlib.pyplot as plt \n",
    "from matplotlib.ticker import MultipleLocator, FormatStrFormatter\n",
    "\n",
    "xmajorLocator   = MultipleLocator(200) #将x主刻度标签设置为20的倍数\n",
    "xminorLocator   = MultipleLocator(100) #将x轴次刻度标签设置为5的倍数\n",
    "\n",
    "def my_unbias(y):\n",
    "    return y - y.mean()\n",
    "\n",
    "frequency = 100\n",
    "offset = 0\n",
    "amp = 1\n",
    "duration = 0.5\n",
    "\n",
    "samplerate = 10000 # 10000\n",
    "\n",
    "x1 = np.linspace(0, duration, samplerate * duration) # samples is 2 time frequency in 1s\n",
    "x = x1 * frequency + (offset / (2.0 * np.pi))\n",
    "frac, _ = np.modf(x)\n",
    "\n",
    "plt.scatter(x1, frac, s=0.2)\n",
    "plt.xlim(0, 2 * (1 / frequency))\n",
    "plt.show()\n",
    "\n",
    "plt.scatter(x1, frac, s=0.2)\n",
    "plt.xlim(0, 0.5 * (1 / frequency))\n",
    "plt.show()\n",
    "\n",
    "print(\"size x:\", len(x))\n",
    "y = amp * np.sign(my_unbias(frac))\n",
    "\n",
    "y = np.sign(my_unbias(frac))\n",
    "\n",
    "plt.plot(x1, y)\n",
    "plt.xlim(0, 3 * (1 / frequency))\n",
    "plt.show()\n",
    "#print(x1)\n",
    "\n",
    "yfft = np.fft.rfft(y)\n",
    "freqfft = np.fft.rfftfreq(len(y), (1/samplerate))\n",
    "\n",
    "ymag = np.abs(yfft)\n",
    "\n",
    "ax = plt.subplot(111) \n",
    "plt.plot(freqfft, ymag)\n",
    "plt.xlim(0,2000)\n",
    "ax.xaxis.set_major_locator(xmajorLocator)\n",
    "#ax.xaxis.set_minor_locator(xminorLocator)\n",
    "\n",
    "plt.show()\n",
    "print(size)"
   ]
  },
  {
   "cell_type": "code",
   "execution_count": null,
   "metadata": {},
   "outputs": [],
   "source": [
    "#混叠(Aliasing) 欠采样  \n",
    "#对于低频的信号丢失的信息不多  > 2f  奈奎斯特频率(Nyquist frequency)\n",
    "#是高频信号采样后的与 某些特定的低频信号是无法区分出来的\n",
    "#计算折叠后的频率：如果信号的频率大于采样率，通过对信号频率与采样率相除求余，来得到在0到采样率之间 的频率，\n",
    "#然后如果这个频率大于折叠频率，则用采样率减去这个频率，最后就得到了折叠后的结果。\n",
    "#当我们用10000Hz采样率对5500Hz信号进行采样的时候，其结果与4500Hz的信号是相同的。 \n",
    "#正是因为这样，7700Hz的信号和2300Hz的信号，9900Hz的信号和100Hz的信号在采样后也是相同的。\n",
    "framerate = 10000\n",
    "\n",
    "freq1= 4500\n",
    "freq2 = framerate - freq1\n",
    "\n",
    "signal = thinkdsp.CosSignal(freq1)\n",
    "duration = signal.period*5\n",
    "segment = signal.make_wave(duration, framerate=framerate)\n",
    "segment.plot()\n"
   ]
  },
  {
   "cell_type": "code",
   "execution_count": null,
   "metadata": {},
   "outputs": [],
   "source": [
    "signal = thinkdsp.CosSignal(freq2)\n",
    "segment = signal.make_wave(duration, framerate=framerate)\n",
    "segment.plot()"
   ]
  },
  {
   "cell_type": "code",
   "execution_count": null,
   "metadata": {},
   "outputs": [],
   "source": [
    "import numpy as np\n",
    "import matplotlib.pyplot as plt \n",
    "\n",
    "#how to generate Chirp wave\n",
    "start_frequency = 200\n",
    "end_frequency = 800\n",
    "amp = 1.0\n",
    "\n",
    "duration = 1 #1s\n",
    "samples = 10000\n",
    "freqs = np.linspace(start_frequency, end_frequency, samples - 1)\n",
    "\n",
    "ts = np.linspace(0, 1, samples)\n",
    "dts = np.diff(ts)\n",
    "\n",
    "dphs = np.pi * 2 * freqs * dts\n",
    "phases = np.cumsum(dphs)\n",
    "phases = np.insert(phases, 0, 0)\n",
    "y = amp * np.cos(phases)\n",
    "\n",
    "plt.xlim(0, 0.02)\n",
    "plt.plot(ts, y)\n",
    "plt.show()\n",
    "plt.xlim(0.5, 0.52)\n",
    "plt.plot(ts, y)\n",
    "plt.show()\n",
    "plt.xlim(0.9, 0.92)\n",
    "plt.plot(ts, y)\n",
    "plt.show()"
   ]
  },
  {
   "cell_type": "code",
   "execution_count": null,
   "metadata": {},
   "outputs": [],
   "source": [
    "#窗口选择\n",
    "#1. 如果截断的信号仍为周期信号，则不存在泄漏，无须加窗，相当于加矩形窗。\n",
    "#2. 如果信号是随机信号或者未知信号，或者有多个频率分量，测试关注的是频率点而非能量大小，建议选择汉宁窗，像LMS Test.Lab中默认加的就是汉宁窗。\n",
    "#3. 对于校准目的，则要求幅值精确，平顶窗是个不错的选择。\n",
    "#4. 如果同时要求幅值精度和频率精度，可选择凯塞窗。\n",
    "#5. 如果检测两个频率相近、幅值不同的信号，建议用布莱克曼窗。\n",
    "#6. 锤击法试验力信号加力窗，响应可加指数窗。"
   ]
  },
  {
   "cell_type": "code",
   "execution_count": null,
   "metadata": {},
   "outputs": [],
   "source": [
    "def my_spectrum(input_segment, framerate):\n",
    "    \"\"\"\n",
    "    input_segment: np array with a slice audio data(real data)\n",
    "    framerate: the sampling rate\n",
    "    return: (hs, fs) fs is the frequency sequences, hs is the value in frequency domain\n",
    "    \"\"\"\n",
    "    n = len(input_segment)\n",
    "    d = 1.0 / framerate\n",
    "    \n",
    "    hs = np.fft.rfft(input_segment)\n",
    "    fs = np.fft.rfftfreq(n, d)\n",
    "    return (hs, fs)\n",
    "\n",
    "def _my_plot_spectrum(hs, fs):\n",
    "    \"\"\"\n",
    "    hs: the frequency domain data\n",
    "    fs: the frequency sequence\n",
    "    \"\"\"\n",
    "    amp = np.abs(hs)\n",
    "    plt.plot(fs, amp)\n",
    "    \n",
    "def my_plot_spectrum(input_segment, framerate, xl = None, xh = None, yl = None, yh = None):\n",
    "    \"\"\"\n",
    "    input_segment: np array with a slice audio data(real data)\n",
    "    framerate: the sampling rate\n",
    "    xl,yl: x,y low value\n",
    "    xh, yh: x,y high value\n",
    "    \"\"\"\n",
    "    hs, fs = my_spectrum(input_segment, framerate)\n",
    "    amp = np.abs(hs)\n",
    "    if xl and xh:\n",
    "        plt.xlim(xl, xh)\n",
    "    elif xh:\n",
    "        plt.xlim(0, xh)\n",
    "    \n",
    "    if yl and yh:\n",
    "        plt.ylim(yl, yh)\n",
    "    elif yh:\n",
    "        plt.xlim(0, yh)\n",
    "    plt.plot(fs, amp)\n",
    "    \n",
    "y_test = y[-400:-200] # the first 20ms\n",
    "hs, fs = my_spectrum(y_test, samples/duration)\n",
    "print(len(hs), len(fs))\n",
    "argmax = np.argmax(hs)\n",
    "print(fs[argmax], fs[argmax-2:argmax+3], hs[argmax-2:argmax+3])\n",
    "_my_plot_spectrum(hs,fs)\n",
    "my_plot_spectrum(y_test, samples/duration)"
   ]
  },
  {
   "cell_type": "code",
   "execution_count": null,
   "metadata": {},
   "outputs": [],
   "source": [
    "import matplotlib\n",
    "def my_spectrogram(spec_map, seg_len):\n",
    "    \"\"\"\n",
    "    spec_map: k: time, value: (hs, fs)\n",
    "    \"\"\"\n",
    "    hs, fs = spec_map[next(iter(spec_map))]\n",
    "    ts = sorted(iter(spec_map))\n",
    "    size = len(fs), len(ts)\n",
    "    array = np.zeros(size, dtype=np.float)\n",
    "    #print(ts)\n",
    "    for j, t in enumerate(ts):\n",
    "        jhs, jfs= spec_map[t]\n",
    "        array[:, j] = np.abs(jhs[:])\n",
    "    #print(array)\n",
    "    #mask = array < 10\n",
    "    #array[mask] = 0\n",
    "    #print(array)\n",
    "    return (ts, fs, array)\n",
    "\n",
    "def my_plot_spectrogram(time_sequence, yvalue, segment_len, samplerate):\n",
    "    step = int(segment_len / 2)\n",
    "    i = 0\n",
    "    j = segment_len\n",
    "\n",
    "    spec_map = {}\n",
    "\n",
    "    while j < len(yvalue):\n",
    "        segment = yvalue[i:j]\n",
    "        #加窗\n",
    "        win = np.hamming(segment_len)\n",
    "        segment = segment * win\n",
    "\n",
    "        t = (time_sequence[i] + time_sequence[j]) / 2\n",
    "        hs, fs = my_spectrum(segment, samplerate)\n",
    "        spec_map[t] = (hs, fs)\n",
    "\n",
    "        i += step\n",
    "        j += step  \n",
    "\n",
    "\n",
    "    (ts, fs, array) = my_spectrogram(spec_map, segment_len)\n",
    "    #plt.ylim(0, 1000)\n",
    "    x_formatter = matplotlib.ticker.ScalarFormatter(useOffset=False)\n",
    "    axes = plt.gca()\n",
    "    axes.xaxis.set_major_formatter(x_formatter)\n",
    "    plt.pcolormesh(ts, fs, array, cmap=matplotlib.cm.Blues)\n",
    "\n",
    "my_plot_spectrogram(ts, y, 200, samples/duration)"
   ]
  },
  {
   "cell_type": "code",
   "execution_count": null,
   "metadata": {},
   "outputs": [],
   "source": [
    "import wave\n",
    "import struct\n",
    "file = \"/home/leliang/project/baidu/tmp/leliang/wakeup_1m.wav\"\n",
    "num_samples = 16000\n",
    "nframes=num_samples\n",
    "comptype=\"NONE\"\n",
    "compname=\"not compressed\"\n",
    "nchannels=1\n",
    "sampwidth=2 # short int\n",
    "\n",
    "wav_file = wave.open(file, 'r')\n",
    "data = wav_file.readframes(num_samples)\n",
    "data = wav_file.readframes(num_samples)\n",
    "data = wav_file.readframes(num_samples)\n",
    "\n",
    "data_s = struct.unpack('{n}h'.format(n=num_samples), data)\n",
    "data_s = np.array(data_s)\n",
    "\n",
    "t_s = np.linspace(0, 1, 16000)\n",
    "\n",
    "my_plot_spectrogram(t_s, data_s, 320, 16000)"
   ]
  },
  {
   "cell_type": "code",
   "execution_count": null,
   "metadata": {},
   "outputs": [],
   "source": [
    "#自相关 求基频\n",
    "import os\n",
    "import sys\n",
    "import thinkdsp\n",
    "\n",
    "#print(sys.path)\n",
    "#print(dir(thinkdsp))\n",
    "\n",
    "thinkdsp_dir = \".\"\n",
    "if thinkdsp.__file__:\n",
    "    thinkdsp_dir = os.path.dirname(thinkdsp.__file__)\n",
    "\n",
    "wave = thinkdsp.read_wave(thinkdsp_dir + '/28042__bcjordan__voicedownbew.wav')\n",
    "wave.normalize()\n",
    "wave.make_audio()"
   ]
  },
  {
   "cell_type": "code",
   "execution_count": null,
   "metadata": {},
   "outputs": [],
   "source": [
    "wave.plot()"
   ]
  },
  {
   "cell_type": "code",
   "execution_count": null,
   "metadata": {},
   "outputs": [],
   "source": [
    "import thinkplot\n",
    "thinkplot.config(ylabel='Amp',\n",
    "                 xlabel='Frequency (Hz)',\n",
    "                 xlim=[0, 10000])\n",
    "\n",
    "spectrum = wave.make_spectrum()\n",
    "spectrum.plot()"
   ]
  },
  {
   "cell_type": "code",
   "execution_count": null,
   "metadata": {},
   "outputs": [],
   "source": [
    "sg = wave.make_spectrogram(seg_length = int(0.01 * wave.framerate))\n",
    "sg.plot()"
   ]
  },
  {
   "cell_type": "code",
   "execution_count": null,
   "metadata": {},
   "outputs": [],
   "source": [
    "#print(wave.ts)\n",
    "import thinkplot\n",
    "thinkplot.config(xlabel='Time (s)',\n",
    "                 ylabel='Frequency (Hz)',\n",
    "                 ylim=[200, 600])\n",
    "my_plot_spectrogram(wave.ts, wave.ys, int(0.04 * wave.framerate), wave.framerate)"
   ]
  },
  {
   "cell_type": "code",
   "execution_count": null,
   "metadata": {},
   "outputs": [],
   "source": [
    "#较长的分段来提高频率的分辨率，但是音高随时间的变化就会变得模糊, 因为峰值(音高)会分布在这段波形的开始和结束的音高上\n",
    "duration = 0.01\n",
    "segment = wave.segment(start = 0.2, duration = duration)\n",
    "thinkplot.config(ylabel='Amp',\n",
    "                 xlabel='Frequency (Hz)',\n",
    "                 xlim=[0, 5000])\n",
    "\n",
    "spectrum = segment.make_spectrum()\n",
    "print(spectrum.amps.argmax() * segment.framerate / len(segment.ys))\n",
    "spectrum.plot()"
   ]
  },
  {
   "cell_type": "code",
   "execution_count": null,
   "metadata": {},
   "outputs": [],
   "source": [
    "import numpy as np\n",
    "duration = 0.01\n",
    "segment = wave.segment(start = 0.2, duration = duration)\n",
    "spectrum = segment.make_spectrum()\n",
    "thinkplot.config(ylabel='Amp',\n",
    "                 xlabel='Frequency (Hz)',\n",
    "                 xlim=[0, 1000])\n",
    "spectrum.plot()\n",
    "\n",
    "segment2 = wave.segment(start = 0.2023, duration = duration) #\n",
    "\n",
    "print(np.corrcoef(segment.ys, segment2.ys))\n",
    "print(segment.corr(segment2))\n",
    "#周期 应该为 0.0023 -> 435Hz"
   ]
  },
  {
   "cell_type": "code",
   "execution_count": null,
   "metadata": {},
   "outputs": [],
   "source": [
    "\n",
    "def serial_corr(wave, lag=1):\n",
    "    n = len(wave)\n",
    "    y1 = wave.ys[lag:]\n",
    "    y2 = wave.ys[:n-lag]\n",
    "    corr = np.corrcoef(y1, y2)[0, 1]\n",
    "    return corr\n",
    "\n",
    "def autocorr(wave):\n",
    "    lags = range(len(wave.ys)//2)\n",
    "    corrs = [serial_corr(wave, lag) for lag in lags]\n",
    "    return lags, corrs\n",
    "\n",
    "segment = wave.segment(start = 0.2, duration = duration)\n",
    "lags, corrs = autocorr(segment)\n",
    "thinkplot.plot(lags, corrs)\n",
    "\n",
    "# 在偏移多少时，相关性最大，即正好为整数倍的周期\n",
    "# 假设偏移N时，则 N/framerate = T, f = 1/T = framerate/N\n",
    "off = 50 + np.argmax(corrs[50:150])\n",
    "print(off) \n",
    "print(\"pitch:\", segment.framerate/off)\n"
   ]
  },
  {
   "cell_type": "code",
   "execution_count": null,
   "metadata": {},
   "outputs": [],
   "source": [
    "corr2 = np.correlate(segment.ys, segment.ys, mode='same') # -N/2 - N/2\n",
    "corr2\n",
    "N = int(len(corr2) / 2)\n",
    "x = np.linspace(-N, N, len(corr2))\n",
    "plt.plot(x, corr2)\n",
    "plt.show()\n",
    "\n",
    "half = corr2[N:]\n",
    "plt.plot(half)\n",
    "plt.show()\n",
    "\n",
    "off = 50 + np.argmax(half[50:150])\n",
    "print(off) \n",
    "print(\"pitch:\", segment.framerate/off)"
   ]
  },
  {
   "cell_type": "code",
   "execution_count": null,
   "metadata": {},
   "outputs": [],
   "source": [
    "x = [1, 2, 3, 4, 5]\n",
    "print(np.correlate(x, x)) # 点乘(X * X)\n",
    "print(np.correlate(x, x, mode='same'))"
   ]
  },
  {
   "cell_type": "code",
   "execution_count": null,
   "metadata": {},
   "outputs": [],
   "source": [
    "#DCT \n",
    "dct_ts = np.linspace(0, 1, 16000)\n",
    "dct_fs = np.array([100, 200, 300, 400])\n",
    "dct_as = np.array([0.6, 0.25, 0.1, 0.05])\n",
    "\n",
    "args = np.outer(dct_ts, dct_fs)\n",
    "M = np.cos(2 * np.pi * args)\n",
    "dct_ys = np.dot(M, dct_as)\n",
    "\n",
    "plt.xlim(0, 0.2)\n",
    "plt.plot(dct_ts, dct_ys)"
   ]
  },
  {
   "cell_type": "markdown",
   "metadata": {},
   "source": []
  },
  {
   "cell_type": "code",
   "execution_count": null,
   "metadata": {},
   "outputs": [],
   "source": [
    "my_plot_spectrum(dct_ys[0:320], 16000, xl = 0, xh = 500)"
   ]
  },
  {
   "cell_type": "markdown",
   "metadata": {},
   "source": [
    "$$M = \\cos (2 \\pi t ⊗ f)$$\n",
    "$$y = Ma$$\n",
    " a 表示幅值的向量， t 表示时间向量， f 表示频率向量。 ⊗ 表示外积\n",
    " "
   ]
  },
  {
   "cell_type": "code",
   "execution_count": null,
   "metadata": {},
   "outputs": [],
   "source": [
    "#求a\n",
    "def analyze(ys, fs, ts):\n",
    "    args = np.outer(ts, fs)\n",
    "    M = np.cos(2 * np.pi * args)\n",
    "    amps = np.linalg.solve(M, ys) #计算复杂度 O(n^3) n 为 M 的列数(未知数个数)\n",
    "    return amps\n",
    "\n",
    "n = len(dct_fs)\n",
    "amps = analyze(dct_ys[0:n], dct_fs, dct_ts[0:n])\n",
    "amps"
   ]
  },
  {
   "cell_type": "markdown",
   "metadata": {},
   "source": [
    "$$M^{-1} y = a$$ \n",
    "这样的时间复杂度为 $$O(n^{2})$$\n",
    "如果M为正定矩阵， $$M^{T} = M^{-1}$$\n",
    "\n",
    "如何构造M使其为正交矩阵？"
   ]
  },
  {
   "cell_type": "code",
   "execution_count": null,
   "metadata": {},
   "outputs": [],
   "source": [
    "\n",
    "np.set_printoptions(precision=3) # 计算精度\n",
    "np.set_printoptions(suppress=True) #抑制科学计数法\n",
    "def dct_M(ys):\n",
    "    N = len(ys)\n",
    "    ts = (0.5 + np.arange(N)) / N\n",
    "    fs = (0.5 + np.arange(N)) / 2\n",
    "    args = np.outer(ts, fs)\n",
    "    M = np.cos(2 * np.pi * args)\n",
    "    return M / np.sqrt(0.5 * N)\n",
    "\n",
    "dct_test_y = np.array([1.0, 2.0, 1.0, -1.0, 1.5]) #dct_ys\n",
    "DM = dct_M(dct_test_y)\n",
    "#print(DM)\n",
    "#print(DM == DM.T) # 对称,精度损失后可能不相等\n",
    "DM_dot = np.dot(DM, DM.T)\n",
    "print(DM_dot)\n",
    "\n",
    "def dct_iv(ys):\n",
    "    M = dct_M(ys)\n",
    "    amps = np.dot(M, ys)\n",
    "    return amps\n",
    "\n",
    "DA = dct_iv(dct_test_y)\n",
    "\n",
    "print(dct_test_y)\n",
    "print(np.dot(DM, DA))\n",
    "\n",
    "print(DA)\n",
    "print(\"================\")\n",
    "print(dct_iv(DA))\n",
    "print(dct_test_y)\n",
    "print(\"================\")\n",
    "dct_test_y2 = np.flip(dct_test_y)\n",
    "print(dct_test_y)\n",
    "print(dct_test_y2)\n",
    "dct_testyy = np.append(dct_test_y2, dct_test_y)\n",
    "dct_test_ynew = np.zeros(np.size(dct_testyy) * 2 - 1)\n",
    "for i in range(np.size(dct_testyy)):\n",
    "    dct_test_ynew[2 * i] = dct_testyy[i]\n",
    "print(dct_test_ynew)\n",
    "\n",
    "print(\"================\")\n",
    "print(dct_iv(dct_test_y))\n",
    "print((np.fft.rfft(dct_testyy)))\n",
    "#dir(np)"
   ]
  },
  {
   "cell_type": "markdown",
   "metadata": {},
   "source": [
    "\n"
   ]
  },
  {
   "cell_type": "code",
   "execution_count": null,
   "metadata": {},
   "outputs": [],
   "source": [
    "#给定区间内满足狄利赫里条件的连续实对称函数，可以展开成仅含有余弦项的傅里叶级数\n",
    "import scipy\n",
    "import scipy.fftpack\n",
    "\n",
    "print(scipy.fftpack.fft(np.array([4., 3., 5., 10., 5., 3.])))\n",
    "print(scipy.fftpack.fft(np.array([4., 3., 5., 10., 5., 3.])).real)\n",
    "print(scipy.fftpack.dct(np.array([4., 3., 5., 10.]), 1))"
   ]
  },
  {
   "cell_type": "code",
   "execution_count": null,
   "metadata": {},
   "outputs": [],
   "source": [
    "# 时域的卷积等于频域乘积\n",
    "\n",
    "test_ys = [1, 2, 3, 4, 5, 6] #segment.ys\n",
    "test_ys_padded = [1, 2, 3, 4, 5, 6, 0, 0] #扩充为 N + M - 1\n",
    "test_win = [1, 0, 1] #window\n",
    "test_win_padded = [1, 0, 1, 0, 0, 0, 0, 0] #扩充为 N + M - 1\n",
    "\n",
    "test_con = np.convolve(test_ys, test_win) # 卷积结果为 N + M - 1\n",
    "#print(test_ys)\n",
    "print(test_con)\n",
    "#print(smoothed)\n",
    "print(np.abs(np.fft.fft(test_con)))\n",
    "\n",
    "\n",
    "test_ys_fft = np.fft.fft(test_ys_padded)\n",
    "test_win_fft = np.fft.fft(test_win_padded)\n",
    "print(np.abs(test_ys_fft)*np.abs(test_win_fft))\n",
    "print(np.fft.ifft(test_ys_fft * test_win_fft)) # 高效的卷积计算公式 O(n^2) -> O(nlogn)"
   ]
  },
  {
   "cell_type": "code",
   "execution_count": null,
   "metadata": {},
   "outputs": [],
   "source": [
    "# 时域的卷积等于频域乘积\n",
    "\n",
    "test_ys = [1, 2, 3, 4, 5, 6] #segment.ys\n",
    "test_win = [1, 0, 1] #window\n",
    "test_con = np.convolve(test_ys, test_win, mode='valid') # 卷积结果为 N + M - 1\n",
    "#print(test_ys)\n",
    "print(test_con)\n",
    "#print(smoothed)\n",
    "#print(np.abs(np.fft.fft(test_con)))\n",
    "\n",
    "test_win_padded = [1, 0, 1, 0, 0, 0] #扩充为 N\n",
    "\n",
    "test_ys_fft = np.fft.fft(test_ys)\n",
    "test_win_fft = np.fft.fft(test_win_padded)\n",
    "#print(np.abs(test_ys_fft)*np.abs(test_win_fft))\n",
    "print((np.fft.ifft(test_ys_fft * test_win_fft))[len(test_win)-1:]) # 高效的卷积计算公式 O(n^2) -> O(nlogn)"
   ]
  },
  {
   "cell_type": "code",
   "execution_count": null,
   "metadata": {},
   "outputs": [],
   "source": []
  },
  {
   "cell_type": "code",
   "execution_count": null,
   "metadata": {},
   "outputs": [],
   "source": [
    "import numpy as np\n",
    "\n",
    "theta = np.pi\n",
    "param = complex(0, theta)\n",
    "print('r:', param.real, 'i:', param.imag)\n",
    "print(np.exp(param))"
   ]
  },
  {
   "cell_type": "code",
   "execution_count": null,
   "metadata": {},
   "outputs": [],
   "source": [
    "duration = 0.5\n",
    "framerate = 16000\n",
    "\n",
    "pitch = 440 #Hz\n",
    "\n",
    "seqs = [1, 2, 3, 4, 5, 6, 7]\n",
    "offsets = np.random.rand(len(seqs)) * 2 * np.pi\n",
    "\n",
    "print(offsets)\n",
    "wave_all = None\n",
    "for s in seqs:\n",
    "    cos_sig = thinkdsp.CosSignal(freq=pitch * s, amp=1.0/(s*s), offset=offsets[s-1])\n",
    "    if wave_all:\n",
    "        wave_all += cos_sig.make_wave(duration=duration, start=0, framerate=framerate)\n",
    "    else:\n",
    "        wave_all = cos_sig.make_wave(duration=duration, start=0, framerate=framerate)\n",
    "\n",
    "wave_all.make_audio()"
   ]
  },
  {
   "cell_type": "code",
   "execution_count": null,
   "metadata": {},
   "outputs": [],
   "source": [
    "spectrum = wave_all.make_spectrum()\n",
    "spectrum.plot()"
   ]
  },
  {
   "cell_type": "code",
   "execution_count": null,
   "metadata": {},
   "outputs": [],
   "source": [
    "thinkplot.config(ylabel='Amp',\n",
    "                 xlabel='Time (s)', xlim=[0,0.01])\n",
    "wave_all.plot()"
   ]
  },
  {
   "cell_type": "code",
   "execution_count": null,
   "metadata": {},
   "outputs": [],
   "source": [
    "impulse = np.zeros(8)\n",
    "impulse[0] = 1\n",
    "impulse_spectrum = np.fft.fft(impulse)\n",
    "print(impulse_spectrum)"
   ]
  },
  {
   "cell_type": "code",
   "execution_count": null,
   "metadata": {},
   "outputs": [],
   "source": [
    "window = np.zeros(1024)\n",
    "window_start = 800\n",
    "window[window_start:window_start+100] = 1\n",
    "plt.plot(window)\n",
    "\n",
    "window_fft = np.fft.rfft(window)\n",
    "plt.plot(np.abs(window_fft))\n",
    "plt.xlim(0, 200)"
   ]
  },
  {
   "cell_type": "code",
   "execution_count": null,
   "metadata": {},
   "outputs": [],
   "source": [
    "y = [1,2,3,4,5,6]\n",
    "np.diff(y)"
   ]
  },
  {
   "cell_type": "code",
   "execution_count": null,
   "metadata": {},
   "outputs": [],
   "source": []
  }
 ],
 "metadata": {
  "kernelspec": {
   "display_name": "python35",
   "language": "python",
   "name": "python35"
  },
  "language_info": {
   "codemirror_mode": {
    "name": "ipython",
    "version": 3
   },
   "file_extension": ".py",
   "mimetype": "text/x-python",
   "name": "python",
   "nbconvert_exporter": "python",
   "pygments_lexer": "ipython3",
   "version": "3.5.6"
  }
 },
 "nbformat": 4,
 "nbformat_minor": 2
}
