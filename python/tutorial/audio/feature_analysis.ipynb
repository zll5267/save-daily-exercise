{
 "cells": [
  {
   "cell_type": "code",
   "execution_count": null,
   "metadata": {},
   "outputs": [],
   "source": [
    "#短时平均幅度也是一帧语音信号能量大小的表征，它与短时能量的区别在于计算时不论采样值的大小，不会因为取二次方而造成较大的差异。\n",
    "#短时能量：标志语音信号在计算长度内的幅度大小,可以由它的量值粗略判断语音信号有无,也可以判断该帧是请是浊。\n",
    "#实际处理中，一般不单独计算语音帧的能量，而是利用自相关法求解LPC系数，自相关序列第一个值代表帧能量。\n",
    "#短时过零率：信号变化快慢, 短时平均过零率表示一帧语音中语音信号波形穿过横轴（零电平）的次数。\n",
    "#自相关函数：估计基音周期\n",
    "#基音检测\n",
    "\n",
    "#共振峰是指在声音的频谱中能量相对集中的一些区域，共振峰不但是音质的决定因素，而且反映了声道（共振腔）的物理特征。"
   ]
  },
  {
   "cell_type": "markdown",
   "metadata": {},
   "source": [
    "帕斯瓦尔定理： 信号在时域和频域上的能量相等\n",
    "$$\\sum_{n=0}^{N-1}{|x[n]|^2} = \\frac {1} {N} \\sum_{k=0}^{N-1}{|X[k]|^2}$$\n",
    "\n",
    "其中x为时域实数数据，X为对应的频域复数数据"
   ]
  },
  {
   "cell_type": "code",
   "execution_count": null,
   "metadata": {},
   "outputs": [],
   "source": [
    "#帕斯瓦尔定理\n",
    "#help(np.random.randint)\n",
    "import numpy as np\n",
    "samples_size = 1000\n",
    "test_array = np.random.randint(1, 10000, samples_size)\n",
    "energy_value = np.sum(test_array**2)\n",
    "print(\"energy_value:\", energy_value)\n",
    "\n",
    "energy_value2 = np.sum(np.abs(np.fft.fft(test_array))**2)/samples_size\n",
    "print(\"energy_value2:\", energy_value2)"
   ]
  },
  {
   "cell_type": "markdown",
   "metadata": {},
   "source": [
    "<p>线性预测(linear prediction)是指用P个已知的样值的某种线性组合来预测未知的样值\n",
    "<p>基本思想：由于语音样点之间存在相关性，所以可以用过去的样点值来预测现在或未来的样点值，即一个语音的抽样能够用过去若干个语音抽样或它们的线性组合来逼近。"
   ]
  },
  {
   "cell_type": "code",
   "execution_count": null,
   "metadata": {},
   "outputs": [],
   "source": []
  },
  {
   "cell_type": "markdown",
   "metadata": {},
   "source": [
    "reference: https://blog.csdn.net/shichaog/article/details/52514816\n",
    "\n",
    "频谱平坦度：作为区分噪声和语音的一个特征\n",
    "<p>该算法假设语音比噪声有更多的谐波。语音频谱往往会在基频（基音）和谐波中出现峰值，而噪声频谱则相对平坦。\n",
    "<p>对于噪声Flatness偏大且为常数，而对于语音，计算出的数量则偏下且为变量。\n",
    "    \n",
    "$$Flatness = \\frac{\\sqrt[N]{\\prod_{n=0}^{N-1}x(n)}}{\\frac{\\sum_{n=0}^{N-1}x(n)}{N}} = \\frac {e^{\\frac {1} {N} \\sum_{n=0}^{N-1}lnx(n)}} {\\frac {1} {N} \\sum_{n=0}^{N-1}x(n)}$$\n",
    "\n"
   ]
  },
  {
   "cell_type": "markdown",
   "metadata": {},
   "source": [
    "<p>频谱差异度:\n",
    "<p>有关噪声频谱的另一个假设是，噪声频谱比语音频谱更稳定。\n",
    "    因此，可假设噪声频谱的整体形状在任何给定阶段都倾向于保持相同。这个特征用于测量输入频谱与噪声频谱形状的偏差。\n",
    "<p> 计算公式: avgDiffNormMagn = var(magnIn) - cov(magnIn, magnAvgPause)^2 / var(magnAvgPause)"
   ]
  },
  {
   "cell_type": "markdown",
   "metadata": {},
   "source": [
    "Quantile noise estimation\n",
    "<p>基于分位噪声估计\n"
   ]
  },
  {
   "cell_type": "code",
   "execution_count": null,
   "metadata": {},
   "outputs": [],
   "source": [
    "\n",
    "\n",
    "\n",
    "\n",
    " "
   ]
  }
 ],
 "metadata": {
  "kernelspec": {
   "display_name": "python35",
   "language": "python",
   "name": "python35"
  },
  "language_info": {
   "codemirror_mode": {
    "name": "ipython",
    "version": 3
   },
   "file_extension": ".py",
   "mimetype": "text/x-python",
   "name": "python",
   "nbconvert_exporter": "python",
   "pygments_lexer": "ipython3",
   "version": "3.5.6"
  }
 },
 "nbformat": 4,
 "nbformat_minor": 2
}
