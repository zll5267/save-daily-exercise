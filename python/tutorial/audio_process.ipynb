{
 "cells": [
  {
   "cell_type": "code",
   "execution_count": null,
   "metadata": {},
   "outputs": [],
   "source": [
    "\n",
    "#https://www.pythonforengineers.com/audio-and-digital-signal-processingdsp-in-python/\n",
    "import numpy as np\n",
    "import wave\n",
    "import struct\n",
    "import matplotlib.pyplot as plt\n",
    "\n"
   ]
  },
  {
   "cell_type": "code",
   "execution_count": null,
   "metadata": {},
   "outputs": [],
   "source": [
    "frequency = 1000 # number of timers a wave repeats a second\n",
    "num_samples = 48000\n",
    "sampling_rate = 48000.0 # sampling rate of the analog to digital convert\n",
    "\n",
    "amplitude = 16000 # the half of the max value of short int which use in wav file\n",
    "file = \"/home/leliang/project/baidu/tmp/leliang/test.wav\"\n",
    "\n",
    "# 2 * pi * frequency  == 2 * pi / T ; x/sampling_rate == the time cost\n",
    "sine_wave = [np.sin(2 * np.pi * frequency * x/sampling_rate) for x in range(num_samples)]\n",
    "\n",
    "nframes=num_samples\n",
    "comptype=\"NONE\"\n",
    "compname=\"not compressed\"\n",
    "nchannels=1\n",
    "sampwidth=2 # short int\n",
    "\n",
    "wav_file = wave.open(file, 'w')\n",
    "#print(help(wav_file.setparams))\n",
    "wav_file.setparams((nchannels, sampwidth, int(sampling_rate), nframes, comptype, compname))\n",
    "\n",
    "for s in sine_wave:\n",
    "    wav_file.writeframes(struct.pack('h', int(s*amplitude)))\n",
    "    \n",
    "wav_file.close()"
   ]
  },
  {
   "cell_type": "code",
   "execution_count": null,
   "metadata": {},
   "outputs": [],
   "source": [
    "#try to get the frequency\n",
    "frame_rate = 48000.0\n",
    "infile = \"/home/leliang/project/baidu/tmp/leliang/test.wav\"\n",
    "num_samples= 48000\n",
    "wav_file = wave.open(infile, 'r')\n",
    "data = wav_file.readframes(num_samples)\n",
    "wav_file.close()\n",
    "\n",
    "data = struct.unpack('{n}h'.format(n=num_samples), data)\n",
    "data = np.array(data)\n",
    "\n",
    "data_fft = np.fft.fft(data)\n"
   ]
  },
  {
   "cell_type": "code",
   "execution_count": null,
   "metadata": {},
   "outputs": [],
   "source": [
    "frequencies = np.abs(data_fft)\n",
    "\n",
    "#The FFT returns all possible frequencies in the signal. And the way it returns is that each index contains a frequency element. \n",
    "#Say you store the FFT results in an array called data_fft. Then:\n",
    "#data_fft[1] will contain frequency part of 1 Hz.\n",
    "#\n",
    "#data_fft[1000] will contain frequency part of 1000 Hz.\n",
    "#if you have no 1Hz frequency in your signal, it will be minuscule.\n",
    "print(\"The frequency is {} Hz\".format(np.argmax(frequencies)))\n",
    "print(\"length of frequencies:\", len(frequencies))\n",
    "\n",
    "plt.subplot(2,1,1)\n",
    "plt.subplots_adjust(hspace=0.5)\n",
    "plt.plot(data[:300])\n",
    "plt.title(\"Original audio wave\")\n",
    "\n",
    "plt.subplot(2,1,2)\n",
    "plt.plot(frequencies)\n",
    "plt.title(\"Frequencies found\")\n",
    "#plt.xlim(0,1200)\n",
    " \n",
    "plt.show()"
   ]
  },
  {
   "cell_type": "code",
   "execution_count": null,
   "metadata": {},
   "outputs": [],
   "source": [
    "np.abs(data_fft[:8])"
   ]
  },
  {
   "cell_type": "code",
   "execution_count": null,
   "metadata": {},
   "outputs": [],
   "source": [
    "np.sqrt(6.2469663*6.2469663 + -11.9802755*-11.9802755)"
   ]
  },
  {
   "cell_type": "code",
   "execution_count": null,
   "metadata": {},
   "outputs": [],
   "source": [
    "#cleaning a noisy sine wave\n",
    "\n",
    "# frequency is the number of times a wave repeats a second\n",
    "frequency = 1000\n",
    "noisy_freq = 50\n",
    "num_samples = 48000\n",
    "# The sampling rate of the analog to digital convert\n",
    "sampling_rate = 48000.0\n",
    "\n",
    "#Create the sine wave and noise\n",
    "sine_wave = [np.sin(2 * np.pi * frequency * x1 / sampling_rate) for x1 in range(num_samples)]\n",
    "sine_noise = [np.sin(2 * np.pi * noisy_freq * x1/  sampling_rate) for x1 in range(num_samples)]\n",
    " \n",
    "#Convert them to numpy arrays\n",
    "sine_wave = np.array(sine_wave)\n",
    "sine_noise = np.array(sine_noise)\n",
    "\n",
    "# Add them to create a noisy signal\n",
    "combined_signal = sine_wave + sine_noise\n",
    "\n",
    "plt.subplot(3,1,1)\n",
    "plt.title(\"Original sine wave\")\n",
    "# Need to add empty space, else everything looks scrunched up!\n",
    "plt.subplots_adjust(hspace=1.5)\n",
    "plt.plot(sine_wave[:500])\n",
    " \n",
    "plt.subplot(3,1,2)\n",
    "plt.title(\"Noisy wave\")\n",
    "plt.plot(sine_noise[:4000])\n",
    " \n",
    "plt.subplot(3,1,3)\n",
    "plt.title(\"Original + Noise\")\n",
    "plt.plot(combined_signal[:3000])\n",
    "\n",
    "plt.show()\n"
   ]
  },
  {
   "cell_type": "code",
   "execution_count": null,
   "metadata": {},
   "outputs": [],
   "source": [
    "data_fft = np.fft.fft(combined_signal)\n",
    "freq = (np.abs(data_fft))\n",
    "\n",
    "plt.plot(freq)\n",
    "plt.title(\"Before filtering: Will have main signal (1000Hz) + noise frequency (50Hz)\")\n",
    "plt.xlim(0,1200)"
   ]
  },
  {
   "cell_type": "code",
   "execution_count": null,
   "metadata": {},
   "outputs": [],
   "source": [
    "filtered_freq = [f if (950 < index < 1050 and f > 1) else 0 for index, f in enumerate(freq)]\n",
    "\n",
    "plt.plot(filtered_freq)\n",
    "plt.title(\"After filtering: Main signal only (1000Hz)\")\n",
    "plt.xlim(0,1200)\n",
    "plt.show()\n",
    "plt.close()"
   ]
  },
  {
   "cell_type": "code",
   "execution_count": null,
   "metadata": {},
   "outputs": [],
   "source": [
    "recovered_signal = np.fft.ifft(filtered_freq)\n",
    "\n",
    "plt.subplot(3,1,1)\n",
    "plt.title(\"Original sine wave\")\n",
    "# Need to add empty space, else everything looks scrunched up!\n",
    "plt.subplots_adjust(hspace=.8)\n",
    "\n",
    "plt.plot(sine_wave[:500])\n",
    "\n",
    "plt.subplot(3,1,2)\n",
    "plt.title(\"Noisy wave\")\n",
    "plt.plot(combined_signal[:4000])\n",
    " \n",
    "plt.subplot(3,1,3)\n",
    "plt.title(\"Sine wave after clean up\")\n",
    "plt.plot((recovered_signal[:500]))\n",
    "\n",
    "plt.show()"
   ]
  },
  {
   "cell_type": "code",
   "execution_count": null,
   "metadata": {},
   "outputs": [],
   "source": [
    "help(wave.open)"
   ]
  },
  {
   "cell_type": "markdown",
   "metadata": {},
   "source": [
    "帕斯瓦尔定理： 信号在时域和频域上的能量相等\n",
    "$$\\sum_{n=0}^{N-1}{|x[n]|^2} = \\frac {1} {N} \\sum_{k=0}^{N-1}{|X[k]|^2}$$\n",
    "\n",
    "其中x为时域实数数据，X为对应的频域复数数据"
   ]
  },
  {
   "cell_type": "code",
   "execution_count": null,
   "metadata": {},
   "outputs": [],
   "source": [
    "#帕斯瓦尔定理\n",
    "#help(np.random.randint)\n",
    "samples_size = 1000\n",
    "test_array = np.random.randint(1, 10000, samples_size)\n",
    "energy_value = np.sum(test_array**2)\n",
    "print(\"energy_value:\", energy_value)\n",
    "\n",
    "energy_value2 = np.sum(np.abs(np.fft.fft(test_array))**2)/samples_size\n",
    "print(\"energy_value2:\", energy_value2)"
   ]
  },
  {
   "cell_type": "markdown",
   "metadata": {},
   "source": [
    "经过FFT后有N个元素的序列x经过傅里叶变化生成有N个元素的y\n",
    "$$ y[k] = \\sum_{n=0}^{N-1}{e^{-2\\pi j \\frac {kn}{N}}}{x[n]}$$\n",
    "反FFT\n",
    "$$ x[n] = \\frac {1} {N} \\sum_{k=0}^{N-1}{e^{2\\pi j \\frac {kn}{N}}}{y[k]}$$\n",
    "\n",
    "欧拉公式：\n",
    "$$e^{\\theta j} = cos(\\theta) + jsin(\\theta)$$\n",
    "\n",
    "经过FFT后变为复数形式：$$ x + jy$$\n",
    "$$x + jy == Acos(\\theta) + Asin(\\theta)j$$\n",
    "$$Acos(\\theta) + Asin(\\theta)j == A(cos(\\theta) + sin(\\theta)j) == Ae^{\\theta j}$$\n",
    "$$A = \\sqrt{(x^2 + y^2)}$$\n",
    "$$\\theta == arctan(\\frac y x)$$"
   ]
  },
  {
   "cell_type": "code",
   "execution_count": null,
   "metadata": {},
   "outputs": [],
   "source": [
    "import numpy as np\n",
    "from scipy.fftpack import fft, ifft\n",
    "x = np.array([1.0, 2.0, 1.0, -1.0, 1.5])\n",
    "y = fft(x)\n",
    "print(y)\n",
    "yinv = ifft(y)\n",
    "print(yinv)\n",
    "print(np.angle(y))\n",
    "print(np.arctan(-1.65109876/2.08155948))"
   ]
  },
  {
   "cell_type": "markdown",
   "metadata": {},
   "source": [
    "皮尔森相关系数（Pearson product-moment correlation coefficient）\n",
    "$$\\rho = \\frac{\\sum_{i=0}^{N-1} {(x_i - \\mu_x)(y_i - \\mu_y)}} {{N \\sigma_x \\sigma_y}}$$\n",
    "$X$,$Y$是有$N$个测量值的向量，上式中的 $\\mu_x$ 和 $\\mu_y$ 是 $X$ 和 $Y$ 的均值， $\\sigma_x$ 和 $\\sigma_y$ 是它们的标准差。\n",
    "$\\rho$ 取值范围[-1,1] \n",
    "\n",
    "通常处理的信号为无偏（均值为0）归一化（标准差为1）的信号，所以：\n",
    "$$\\rho = \\frac {1} {N} {\\sum_{i=0}^{N-1} x_i y_i} $$\n",
    "进一步：\n",
    "$$r = {\\sum_{i=0}^{N-1} x_i y_i} $$\n",
    "\n",
    "如果把 $X$ 和 $Y$ 看做是向量，那么这个公式就是 点积（dot product） 的公式, 点积表征了信号之间的相似度\n",
    "如果$X$ 和 $Y$ 都是归一化的：\n",
    "$$X * Y = cos\\theta$$"
   ]
  },
  {
   "cell_type": "code",
   "execution_count": null,
   "metadata": {},
   "outputs": [],
   "source": [
    "import thinkdsp\n",
    "import thinkplot\n",
    "\n",
    "def make_sine(offset):\n",
    "    signal = thinkdsp.SinSignal(freq=440, offset=offset)\n",
    "    wave = signal.make_wave(duration=0.5, framerate=10000)\n",
    "    return wave\n",
    "\n",
    "wave1 = make_sine(offset = 0)\n",
    "wave2 = make_sine(offset = np.pi / 2) # offset = 1\n",
    "\n",
    "wave1.plot(label=\"offset 0\")\n",
    "wave2.plot(label=\"offset 1\")\n",
    "\n",
    "thinkplot.config(xlabel='Time (s)',\n",
    "                 ylabel='Amplitude',\n",
    "                 xlim=[0, 0.01])"
   ]
  },
  {
   "cell_type": "code",
   "execution_count": null,
   "metadata": {},
   "outputs": [],
   "source": [
    "import numpy as np\n",
    "corr_matrix = np.corrcoef(wave1.ys, wave2.ys)\n",
    "print(corr_matrix)\n",
    "wave1.corr(wave2)"
   ]
  },
  {
   "cell_type": "code",
   "execution_count": null,
   "metadata": {},
   "outputs": [],
   "source": [
    "import matplotlib.pyplot as plt\n",
    "\n",
    "#两个波形随着offset的不同，相关性发生的变化\n",
    "\n",
    "wave_offsets = np.linspace(0, 2 * np.pi, 100)\n",
    "corr_values = []\n",
    "for i in range(len(wave_offsets)):\n",
    "    wavei = make_sine(offset = wave_offsets[i])\n",
    "    corr_values.append(wave1.corr(wavei))\n",
    "    \n",
    "plt.xlabel(\"offset\") \n",
    "plt.ylabel(\"corrlation\")\n",
    "plt.plot(wave_offsets, corr_values)"
   ]
  },
  {
   "cell_type": "code",
   "execution_count": null,
   "metadata": {},
   "outputs": [],
   "source": [
    "#序列相关性\n",
    "def serial_corr(wave, lag=1):\n",
    "    n = len(wave)\n",
    "    y1 = wave.ys[lag:]\n",
    "    y2 = wave.ys[:n-lag]\n",
    "    corr = np.corrcoef(y1, y2)[0, 1]\n",
    "    return corr\n",
    "\n",
    "print(serial_corr(wave1, lag=0)) # 自相关\n",
    "print(serial_corr(wave1, lag=6)) # T/4 自相关性最小\n",
    "print(serial_corr(wave1, lag=11)) # 编译 T/2  lag = T/2 * framerate = 1/2f * frametate 10000/2*440 = 11.363636363636363\n",
    "print(serial_corr(wave1, lag=23))\n",
    "\n",
    "print(thinkdsp.__file__)"
   ]
  },
  {
   "cell_type": "code",
   "execution_count": null,
   "metadata": {},
   "outputs": [],
   "source": [
    "#自相关 求基频\n",
    "import os\n",
    "\n",
    "thinkdsp_dir = os.path.dirname(thinkdsp.__file__)\n",
    "wave = thinkdsp.read_wave(thinkdsp_dir + '/28042__bcjordan__voicedownbew.wav')\n",
    "#wave.normalize()\n",
    "wave.make_audio()\n",
    "\n",
    "\n"
   ]
  },
  {
   "cell_type": "code",
   "execution_count": null,
   "metadata": {},
   "outputs": [],
   "source": []
  }
 ],
 "metadata": {
  "kernelspec": {
   "display_name": "python35",
   "language": "python",
   "name": "python35"
  },
  "language_info": {
   "codemirror_mode": {
    "name": "ipython",
    "version": 3
   },
   "file_extension": ".py",
   "mimetype": "text/x-python",
   "name": "python",
   "nbconvert_exporter": "python",
   "pygments_lexer": "ipython3",
   "version": "3.5.6"
  }
 },
 "nbformat": 4,
 "nbformat_minor": 2
}
